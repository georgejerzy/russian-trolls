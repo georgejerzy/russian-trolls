{
 "cells": [
  {
   "cell_type": "code",
   "execution_count": 33,
   "id": "c1e0e091",
   "metadata": {},
   "outputs": [
    {
     "data": {
      "text/html": [
       "<style>.container { width:90% !important; }</style>"
      ],
      "text/plain": [
       "<IPython.core.display.HTML object>"
      ]
     },
     "metadata": {},
     "output_type": "display_data"
    }
   ],
   "source": [
    "from IPython.core.display import display, HTML\n",
    "display(HTML(\"<style>.container { width:90% !important; }</style>\"))"
   ]
  },
  {
   "cell_type": "code",
   "execution_count": 34,
   "id": "de73097a",
   "metadata": {},
   "outputs": [
    {
     "name": "stdout",
     "output_type": "stream",
     "text": [
      "The autoreload extension is already loaded. To reload it, use:\n",
      "  %reload_ext autoreload\n"
     ]
    }
   ],
   "source": [
    "import sys\n",
    "sys.path.insert(0,'..')\n",
    "\n",
    "%load_ext autoreload\n",
    "%autoreload 2\n",
    "\n",
    "import os,sys,inspect\n",
    "import pandas as pd\n",
    "import numpy as np\n",
    "pd.set_option('display.max_rows', 1000)\n",
    "pd.set_option('display.float_format', lambda x: '%.3f' % x)\n",
    "import plotly.io as pio\n",
    "pio.renderers.default='notebook'\n",
    "\n"
   ]
  },
  {
   "cell_type": "markdown",
   "id": "b4858e49",
   "metadata": {},
   "source": [
    "# todo: let's see if we can get example more data from Twitter to have non-troll examples"
   ]
  },
  {
   "cell_type": "markdown",
   "id": "30a60a6c",
   "metadata": {},
   "source": [
    "# there is some data here:\n",
    "https://archive.org/search.php?query=twitterstream&sort=-publicdate&and[]=year%3A%222016%22"
   ]
  },
  {
   "cell_type": "markdown",
   "id": "5a5cb55f",
   "metadata": {},
   "source": [
    "downloaded source:"
   ]
  },
  {
   "cell_type": "code",
   "execution_count": 3,
   "id": "53fea6d3",
   "metadata": {},
   "outputs": [],
   "source": [
    "# https://archive.org/details/archiveteam-twitter-stream-2017-09"
   ]
  },
  {
   "cell_type": "code",
   "execution_count": 4,
   "id": "16e9c3d6",
   "metadata": {},
   "outputs": [],
   "source": [
    "# !wget https://archive.org/download/archiveteam-twitter-stream-2017-09/twitter-stream-2017-09-10.tar "
   ]
  },
  {
   "cell_type": "markdown",
   "id": "aea61339",
   "metadata": {},
   "source": [
    "## extract & preprocess additional datset"
   ]
  },
  {
   "cell_type": "code",
   "execution_count": 35,
   "id": "2b424193",
   "metadata": {},
   "outputs": [],
   "source": [
    "data_dir = '../data/twitter-stream/2017/09/10'"
   ]
  },
  {
   "cell_type": "code",
   "execution_count": 105,
   "id": "cf4571f5",
   "metadata": {},
   "outputs": [],
   "source": [
    "output_file = '../data/preprocessed/non_trolls.csv'"
   ]
  },
  {
   "cell_type": "code",
   "execution_count": 48,
   "id": "380c63b3",
   "metadata": {},
   "outputs": [],
   "source": [
    "from russian_trolls import dataset_creators"
   ]
  },
  {
   "cell_type": "code",
   "execution_count": 49,
   "id": "588c2cab",
   "metadata": {},
   "outputs": [
    {
     "name": "stderr",
     "output_type": "stream",
     "text": [
      "[nltk_data] Downloading package words to /home/jerzy/nltk_data...\n",
      "[nltk_data]   Package words is already up-to-date!\n"
     ]
    }
   ],
   "source": [
    "ds_creator = dataset_creators.ExternalDatasetCreator(data_dir)"
   ]
  },
  {
   "cell_type": "code",
   "execution_count": 50,
   "id": "e423a7ee",
   "metadata": {},
   "outputs": [],
   "source": [
    "ds_creator.generate_dataset(output_file)"
   ]
  },
  {
   "cell_type": "code",
   "execution_count": null,
   "id": "3b121778",
   "metadata": {},
   "outputs": [],
   "source": []
  },
  {
   "cell_type": "code",
   "execution_count": 106,
   "id": "9f83f2e0",
   "metadata": {},
   "outputs": [],
   "source": [
    "df = pd.read_csv(output_file)"
   ]
  },
  {
   "cell_type": "code",
   "execution_count": 108,
   "id": "794674c0",
   "metadata": {},
   "outputs": [
    {
     "data": {
      "text/plain": [
       "(22747, 8)"
      ]
     },
     "execution_count": 108,
     "metadata": {},
     "output_type": "execute_result"
    }
   ],
   "source": [
    "df.shape"
   ]
  },
  {
   "cell_type": "code",
   "execution_count": null,
   "id": "90ae7eba",
   "metadata": {},
   "outputs": [],
   "source": [
    "df.to_csv(index=False)"
   ]
  },
  {
   "cell_type": "code",
   "execution_count": null,
   "id": "41fdf16d",
   "metadata": {},
   "outputs": [],
   "source": []
  },
  {
   "cell_type": "markdown",
   "id": "b25b86fe",
   "metadata": {},
   "source": [
    "## extract and load provided trolls datasetm"
   ]
  },
  {
   "cell_type": "code",
   "execution_count": 147,
   "id": "90432c17",
   "metadata": {},
   "outputs": [],
   "source": [
    "raw_input_data_csv = '../data/provided_offline/tweets.csv'"
   ]
  },
  {
   "cell_type": "code",
   "execution_count": 148,
   "id": "42cac81b",
   "metadata": {},
   "outputs": [],
   "source": [
    "from russian_trolls.tweets_preprocessor import TweetsPreprocessor\n"
   ]
  },
  {
   "cell_type": "code",
   "execution_count": 149,
   "id": "fe1eb624",
   "metadata": {},
   "outputs": [
    {
     "data": {
      "text/plain": [
       "russian_trolls.tweets_preprocessor.TweetsPreprocessor"
      ]
     },
     "execution_count": 149,
     "metadata": {},
     "output_type": "execute_result"
    }
   ],
   "source": [
    "TweetsPreprocessor"
   ]
  },
  {
   "cell_type": "code",
   "execution_count": 150,
   "id": "064ca279",
   "metadata": {},
   "outputs": [
    {
     "name": "stderr",
     "output_type": "stream",
     "text": [
      "[nltk_data] Downloading package words to /home/jerzy/nltk_data...\n",
      "[nltk_data]   Package words is already up-to-date!\n"
     ]
    }
   ],
   "source": [
    "preprocessor = TweetsPreprocessor()"
   ]
  },
  {
   "cell_type": "code",
   "execution_count": 151,
   "id": "1108e97c",
   "metadata": {},
   "outputs": [
    {
     "name": "stderr",
     "output_type": "stream",
     "text": [
      "[nltk_data] Downloading package words to /home/jerzy/nltk_data...\n",
      "[nltk_data]   Package words is already up-to-date!\n"
     ]
    }
   ],
   "source": [
    "ds_creator = dataset_creators.TrollsDatasetCreator(raw_input_data_csv)"
   ]
  },
  {
   "cell_type": "code",
   "execution_count": 152,
   "id": "e47c4882",
   "metadata": {},
   "outputs": [],
   "source": [
    "trolls_output_file = \"../data/preprocessed/trolls.csv\"\n"
   ]
  },
  {
   "cell_type": "code",
   "execution_count": 154,
   "id": "e36e922f",
   "metadata": {},
   "outputs": [
    {
     "name": "stderr",
     "output_type": "stream",
     "text": [
      "WARNING:root:This method is not yet optimised for speed, it can take up to 10 minutes!\n"
     ]
    }
   ],
   "source": [
    "ds_creator.generate_dataset(trolls_output_file)\n"
   ]
  },
  {
   "cell_type": "code",
   "execution_count": null,
   "id": "bde70d96",
   "metadata": {},
   "outputs": [],
   "source": []
  },
  {
   "cell_type": "code",
   "execution_count": null,
   "id": "cfc15a9d",
   "metadata": {},
   "outputs": [],
   "source": []
  }
 ],
 "metadata": {
  "kernelspec": {
   "display_name": "russian-trolls",
   "language": "python",
   "name": "russian-trolls"
  },
  "language_info": {
   "codemirror_mode": {
    "name": "ipython",
    "version": 3
   },
   "file_extension": ".py",
   "mimetype": "text/x-python",
   "name": "python",
   "nbconvert_exporter": "python",
   "pygments_lexer": "ipython3",
   "version": "3.8.5"
  }
 },
 "nbformat": 4,
 "nbformat_minor": 5
}
