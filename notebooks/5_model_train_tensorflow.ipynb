{
  "nbformat": 4,
  "nbformat_minor": 0,
  "metadata": {
    "colab": {
      "name": "5_model_train_tensorflow",
      "provenance": [],
      "collapsed_sections": [],
      "machine_shape": "hm"
    },
    "kernelspec": {
      "name": "python3",
      "display_name": "Python 3"
    },
    "language_info": {
      "name": "python"
    },
    "accelerator": "GPU"
  },
  "cells": [
    {
      "cell_type": "code",
      "metadata": {
        "id": "ap1lj6S0EG5P"
      },
      "source": [
        "!pip install transformers\n",
        "!pip install shap\n",
        "!pip install scikit-plot"
      ],
      "execution_count": null,
      "outputs": []
    },
    {
      "cell_type": "markdown",
      "metadata": {
        "id": "otws1s-0fQ9T"
      },
      "source": [
        "# Dataset & training"
      ]
    },
    {
      "cell_type": "code",
      "metadata": {
        "id": "xS5ajZ6VAoxJ"
      },
      "source": [
        "import pandas as pd\n",
        "import numpy as np"
      ],
      "execution_count": 636,
      "outputs": []
    },
    {
      "cell_type": "code",
      "metadata": {
        "id": "RDwW_jSzp-46"
      },
      "source": [
        "dataset_path = \"dataset.csv\""
      ],
      "execution_count": 637,
      "outputs": []
    },
    {
      "cell_type": "code",
      "metadata": {
        "colab": {
          "base_uri": "https://localhost:8080/"
        },
        "id": "O3CXB7wSAorN",
        "outputId": "8e1ca676-c441-4298-9465-6633a613283d"
      },
      "source": [
        "df = pd.read_csv(dataset_path, usecols = ['text', 'text_clean', 'is_troll'])"
      ],
      "execution_count": 638,
      "outputs": [
        {
          "output_type": "stream",
          "text": [
            "Columns (2,4,6) have mixed types.Specify dtype option on import or set low_memory=False.\n"
          ],
          "name": "stderr"
        }
      ]
    },
    {
      "cell_type": "code",
      "metadata": {
        "id": "3lKQeSIDDtJ1"
      },
      "source": [
        "df = df[df['is_troll'].notna()]\n",
        "df = df[df['text_clean'].notna()]"
      ],
      "execution_count": 639,
      "outputs": []
    },
    {
      "cell_type": "code",
      "metadata": {
        "colab": {
          "base_uri": "https://localhost:8080/"
        },
        "id": "qIbKpYJFAon4",
        "outputId": "c503e37f-024e-4d37-abe0-b448308bf02f"
      },
      "source": [
        "df.is_troll.value_counts()"
      ],
      "execution_count": 640,
      "outputs": [
        {
          "output_type": "execute_result",
          "data": {
            "text/plain": [
              "False    223332\n",
              "True     188558\n",
              "Name: is_troll, dtype: int64"
            ]
          },
          "metadata": {
            "tags": []
          },
          "execution_count": 640
        }
      ]
    },
    {
      "cell_type": "code",
      "metadata": {
        "id": "hx3b-GucSCvt"
      },
      "source": [
        "# ! I am taking just a part of data to make trainnig faster\n",
        "\n",
        "n_samples = 50_000\n",
        "\n",
        "df_class_0 = df[df['is_troll'] == False]\n",
        "df_class_1 = df[df['is_troll'] == True]\n",
        "\n",
        "df = pd.concat([df_class_0.sample(n_samples), df_class_1.sample(n_samples)], axis=0)"
      ],
      "execution_count": 641,
      "outputs": []
    },
    {
      "cell_type": "code",
      "metadata": {
        "colab": {
          "base_uri": "https://localhost:8080/"
        },
        "id": "IGZGF5zNScNf",
        "outputId": "4e44c773-2732-476d-8b93-fedbfbf9206a"
      },
      "source": [
        "df.is_troll.value_counts()"
      ],
      "execution_count": 642,
      "outputs": [
        {
          "output_type": "execute_result",
          "data": {
            "text/plain": [
              "True     50000\n",
              "False    50000\n",
              "Name: is_troll, dtype: int64"
            ]
          },
          "metadata": {
            "tags": []
          },
          "execution_count": 642
        }
      ]
    },
    {
      "cell_type": "code",
      "metadata": {
        "colab": {
          "base_uri": "https://localhost:8080/",
          "height": 204
        },
        "id": "9VZtjGTZAole",
        "outputId": "16bac428-68fe-41b9-f211-39d4127c5990"
      },
      "source": [
        "df.head()"
      ],
      "execution_count": 643,
      "outputs": [
        {
          "output_type": "execute_result",
          "data": {
            "text/html": [
              "<div>\n",
              "<style scoped>\n",
              "    .dataframe tbody tr th:only-of-type {\n",
              "        vertical-align: middle;\n",
              "    }\n",
              "\n",
              "    .dataframe tbody tr th {\n",
              "        vertical-align: top;\n",
              "    }\n",
              "\n",
              "    .dataframe thead th {\n",
              "        text-align: right;\n",
              "    }\n",
              "</style>\n",
              "<table border=\"1\" class=\"dataframe\">\n",
              "  <thead>\n",
              "    <tr style=\"text-align: right;\">\n",
              "      <th></th>\n",
              "      <th>text</th>\n",
              "      <th>text_clean</th>\n",
              "      <th>is_troll</th>\n",
              "    </tr>\n",
              "  </thead>\n",
              "  <tbody>\n",
              "    <tr>\n",
              "      <th>179739</th>\n",
              "      <td>RT @adambombshow: Huge @BTS_twt fan over here!...</td>\n",
              "      <td>Huge fan over here! RT if you want them in the...</td>\n",
              "      <td>False</td>\n",
              "    </tr>\n",
              "    <tr>\n",
              "      <th>448714</th>\n",
              "      <td>RT @Swamy39: Buddhu who is bereft human intell...</td>\n",
              "      <td>Buddhu who is bereft human intelligence was to...</td>\n",
              "      <td>False</td>\n",
              "    </tr>\n",
              "    <tr>\n",
              "      <th>400503</th>\n",
              "      <td>RT @Fact: The first word spoken on the moon wa...</td>\n",
              "      <td>The first word spoken on the moon was “Okay.”</td>\n",
              "      <td>False</td>\n",
              "    </tr>\n",
              "    <tr>\n",
              "      <th>186461</th>\n",
              "      <td>RT @AwardsDarwin: Who made this. 😂 https://t.c...</td>\n",
              "      <td>Who made this. 😂</td>\n",
              "      <td>False</td>\n",
              "    </tr>\n",
              "    <tr>\n",
              "      <th>453500</th>\n",
              "      <td>RT @MEHDIHASANAINI1: Don't forget: It's Burma'...</td>\n",
              "      <td>Don't forget: It's Burma's army ordering &amp;amp;...</td>\n",
              "      <td>False</td>\n",
              "    </tr>\n",
              "  </tbody>\n",
              "</table>\n",
              "</div>"
            ],
            "text/plain": [
              "                                                     text  ... is_troll\n",
              "179739  RT @adambombshow: Huge @BTS_twt fan over here!...  ...    False\n",
              "448714  RT @Swamy39: Buddhu who is bereft human intell...  ...    False\n",
              "400503  RT @Fact: The first word spoken on the moon wa...  ...    False\n",
              "186461  RT @AwardsDarwin: Who made this. 😂 https://t.c...  ...    False\n",
              "453500  RT @MEHDIHASANAINI1: Don't forget: It's Burma'...  ...    False\n",
              "\n",
              "[5 rows x 3 columns]"
            ]
          },
          "metadata": {
            "tags": []
          },
          "execution_count": 643
        }
      ]
    },
    {
      "cell_type": "code",
      "metadata": {
        "colab": {
          "base_uri": "https://localhost:8080/"
        },
        "id": "3YjGA8v8DglM",
        "outputId": "4b1c3fa3-98ea-467d-ab2c-e877f0631902"
      },
      "source": [
        "df.info(verbose=True)"
      ],
      "execution_count": 644,
      "outputs": [
        {
          "output_type": "stream",
          "text": [
            "<class 'pandas.core.frame.DataFrame'>\n",
            "Int64Index: 100000 entries, 179739 to 523644\n",
            "Data columns (total 3 columns):\n",
            " #   Column      Non-Null Count   Dtype \n",
            "---  ------      --------------   ----- \n",
            " 0   text        100000 non-null  object\n",
            " 1   text_clean  100000 non-null  object\n",
            " 2   is_troll    100000 non-null  object\n",
            "dtypes: object(3)\n",
            "memory usage: 3.1+ MB\n"
          ],
          "name": "stdout"
        }
      ]
    },
    {
      "cell_type": "code",
      "metadata": {
        "id": "aHuWcKlvBCqU"
      },
      "source": [
        "df['is_troll']= df['is_troll'].astype(float)"
      ],
      "execution_count": 645,
      "outputs": []
    },
    {
      "cell_type": "code",
      "metadata": {
        "colab": {
          "base_uri": "https://localhost:8080/",
          "height": 419
        },
        "id": "Pb_Xt01IzZ1J",
        "outputId": "7c73de7b-b5b0-44ef-d012-706fb791a9a0"
      },
      "source": [
        "df"
      ],
      "execution_count": 646,
      "outputs": [
        {
          "output_type": "execute_result",
          "data": {
            "text/html": [
              "<div>\n",
              "<style scoped>\n",
              "    .dataframe tbody tr th:only-of-type {\n",
              "        vertical-align: middle;\n",
              "    }\n",
              "\n",
              "    .dataframe tbody tr th {\n",
              "        vertical-align: top;\n",
              "    }\n",
              "\n",
              "    .dataframe thead th {\n",
              "        text-align: right;\n",
              "    }\n",
              "</style>\n",
              "<table border=\"1\" class=\"dataframe\">\n",
              "  <thead>\n",
              "    <tr style=\"text-align: right;\">\n",
              "      <th></th>\n",
              "      <th>text</th>\n",
              "      <th>text_clean</th>\n",
              "      <th>is_troll</th>\n",
              "    </tr>\n",
              "  </thead>\n",
              "  <tbody>\n",
              "    <tr>\n",
              "      <th>179739</th>\n",
              "      <td>RT @adambombshow: Huge @BTS_twt fan over here!...</td>\n",
              "      <td>Huge fan over here! RT if you want them in the...</td>\n",
              "      <td>0.0</td>\n",
              "    </tr>\n",
              "    <tr>\n",
              "      <th>448714</th>\n",
              "      <td>RT @Swamy39: Buddhu who is bereft human intell...</td>\n",
              "      <td>Buddhu who is bereft human intelligence was to...</td>\n",
              "      <td>0.0</td>\n",
              "    </tr>\n",
              "    <tr>\n",
              "      <th>400503</th>\n",
              "      <td>RT @Fact: The first word spoken on the moon wa...</td>\n",
              "      <td>The first word spoken on the moon was “Okay.”</td>\n",
              "      <td>0.0</td>\n",
              "    </tr>\n",
              "    <tr>\n",
              "      <th>186461</th>\n",
              "      <td>RT @AwardsDarwin: Who made this. 😂 https://t.c...</td>\n",
              "      <td>Who made this. 😂</td>\n",
              "      <td>0.0</td>\n",
              "    </tr>\n",
              "    <tr>\n",
              "      <th>453500</th>\n",
              "      <td>RT @MEHDIHASANAINI1: Don't forget: It's Burma'...</td>\n",
              "      <td>Don't forget: It's Burma's army ordering &amp;amp;...</td>\n",
              "      <td>0.0</td>\n",
              "    </tr>\n",
              "    <tr>\n",
              "      <th>...</th>\n",
              "      <td>...</td>\n",
              "      <td>...</td>\n",
              "      <td>...</td>\n",
              "    </tr>\n",
              "    <tr>\n",
              "      <th>631786</th>\n",
              "      <td>RT @randilynisin: time to take another break #...</td>\n",
              "      <td>time to take another break CongressIn5Words</td>\n",
              "      <td>1.0</td>\n",
              "    </tr>\n",
              "    <tr>\n",
              "      <th>534408</th>\n",
              "      <td>RT @JamesOKeefeIII: NEW #Veritas video exposes...</td>\n",
              "      <td>NEW Veritas video exposes DisruptJ20 plot to C...</td>\n",
              "      <td>1.0</td>\n",
              "    </tr>\n",
              "    <tr>\n",
              "      <th>550788</th>\n",
              "      <td>RT @blicqer: ▶ Why Donald Trump’s political ti...</td>\n",
              "      <td>▶ Why Donald Trump’s political tirades could h...</td>\n",
              "      <td>1.0</td>\n",
              "    </tr>\n",
              "    <tr>\n",
              "      <th>570830</th>\n",
              "      <td>RT @DailyCaller: FLASHBACK: Miami Marlins Susp...</td>\n",
              "      <td>FLASHBACK: Miami Marlins Suspend Manager Ozzie...</td>\n",
              "      <td>1.0</td>\n",
              "    </tr>\n",
              "    <tr>\n",
              "      <th>523644</th>\n",
              "      <td>RT @HollaBlackGirl: Right. Folks really rushin...</td>\n",
              "      <td>Right. Folks really rushing to donate to help ...</td>\n",
              "      <td>1.0</td>\n",
              "    </tr>\n",
              "  </tbody>\n",
              "</table>\n",
              "<p>100000 rows × 3 columns</p>\n",
              "</div>"
            ],
            "text/plain": [
              "                                                     text  ... is_troll\n",
              "179739  RT @adambombshow: Huge @BTS_twt fan over here!...  ...      0.0\n",
              "448714  RT @Swamy39: Buddhu who is bereft human intell...  ...      0.0\n",
              "400503  RT @Fact: The first word spoken on the moon wa...  ...      0.0\n",
              "186461  RT @AwardsDarwin: Who made this. 😂 https://t.c...  ...      0.0\n",
              "453500  RT @MEHDIHASANAINI1: Don't forget: It's Burma'...  ...      0.0\n",
              "...                                                   ...  ...      ...\n",
              "631786  RT @randilynisin: time to take another break #...  ...      1.0\n",
              "534408  RT @JamesOKeefeIII: NEW #Veritas video exposes...  ...      1.0\n",
              "550788  RT @blicqer: ▶ Why Donald Trump’s political ti...  ...      1.0\n",
              "570830  RT @DailyCaller: FLASHBACK: Miami Marlins Susp...  ...      1.0\n",
              "523644  RT @HollaBlackGirl: Right. Folks really rushin...  ...      1.0\n",
              "\n",
              "[100000 rows x 3 columns]"
            ]
          },
          "metadata": {
            "tags": []
          },
          "execution_count": 646
        }
      ]
    },
    {
      "cell_type": "code",
      "metadata": {
        "id": "0OxMYjlKAoiO"
      },
      "source": [
        "texts, labels = df['text_clean'].values, df['is_troll'].values"
      ],
      "execution_count": 647,
      "outputs": []
    },
    {
      "cell_type": "code",
      "metadata": {
        "id": "27dmK9I8QfqX"
      },
      "source": [
        "from sklearn.model_selection import train_test_split\n",
        "train_texts, test_texts, train_labels, test_labels = train_test_split(texts, labels, test_size=.2)\n",
        "train_texts, val_texts, train_labels, val_labels = train_test_split(train_texts, train_labels, test_size=.2)"
      ],
      "execution_count": 648,
      "outputs": []
    },
    {
      "cell_type": "code",
      "metadata": {
        "colab": {
          "base_uri": "https://localhost:8080/"
        },
        "id": "bp8zQKMMB-QF",
        "outputId": "eb78cba6-e6d5-4d50-e09e-b72d907d2b92"
      },
      "source": [
        "train_texts.shape, train_labels.shape"
      ],
      "execution_count": 649,
      "outputs": [
        {
          "output_type": "execute_result",
          "data": {
            "text/plain": [
              "((64000,), (64000,))"
            ]
          },
          "metadata": {
            "tags": []
          },
          "execution_count": 649
        }
      ]
    },
    {
      "cell_type": "code",
      "metadata": {
        "colab": {
          "base_uri": "https://localhost:8080/"
        },
        "id": "GRAmee_eClE7",
        "outputId": "a22c25d9-046f-44c9-8463-3cab10000dab"
      },
      "source": [
        "sum(train_labels) / len(train_labels)"
      ],
      "execution_count": 650,
      "outputs": [
        {
          "output_type": "execute_result",
          "data": {
            "text/plain": [
              "0.4993125"
            ]
          },
          "metadata": {
            "tags": []
          },
          "execution_count": 650
        }
      ]
    },
    {
      "cell_type": "markdown",
      "metadata": {
        "id": "5czTj8sXqk_L"
      },
      "source": [
        "### Tokenizer"
      ]
    },
    {
      "cell_type": "code",
      "metadata": {
        "id": "u1Ks1TjyQlQg"
      },
      "source": [
        "from transformers import DistilBertTokenizerFast\n",
        "tokenizer = DistilBertTokenizerFast.from_pretrained('distilbert-base-uncased')"
      ],
      "execution_count": 651,
      "outputs": []
    },
    {
      "cell_type": "code",
      "metadata": {
        "id": "POFd3cACGXhM"
      },
      "source": [
        "train_encodings = tokenizer(train_texts.tolist(), truncation=True, padding=True) #length of the represetntaion?\n",
        "val_encodings = tokenizer(val_texts.tolist(), truncation=True, padding=True)\n",
        "test_encodings = tokenizer(test_texts.tolist(), truncation=True, padding=True)"
      ],
      "execution_count": 652,
      "outputs": []
    },
    {
      "cell_type": "code",
      "metadata": {
        "colab": {
          "base_uri": "https://localhost:8080/"
        },
        "id": "Voj7OqAMqpW-",
        "outputId": "e5e5d24e-8c01-4972-a726-ba6f64e9eb6e"
      },
      "source": [
        "train_encodings[0].ids[:30]"
      ],
      "execution_count": 653,
      "outputs": [
        {
          "output_type": "execute_result",
          "data": {
            "text/plain": [
              "[101,\n",
              " 2009,\n",
              " 2038,\n",
              " 2272,\n",
              " 1010,\n",
              " 2374,\n",
              " 4465,\n",
              " 1010,\n",
              " 5088,\n",
              " 2003,\n",
              " 2067,\n",
              " 1010,\n",
              " 2053,\n",
              " 2062,\n",
              " 14803,\n",
              " 2302,\n",
              " 2374,\n",
              " 2005,\n",
              " 1037,\n",
              " 2204,\n",
              " 2096,\n",
              " 1012,\n",
              " 102,\n",
              " 0,\n",
              " 0,\n",
              " 0,\n",
              " 0,\n",
              " 0,\n",
              " 0,\n",
              " 0]"
            ]
          },
          "metadata": {
            "tags": []
          },
          "execution_count": 653
        }
      ]
    },
    {
      "cell_type": "code",
      "metadata": {
        "colab": {
          "base_uri": "https://localhost:8080/"
        },
        "id": "d13JxvcAqyok",
        "outputId": "22cfbd8f-c69e-4628-9911-38974d947c4d"
      },
      "source": [
        "train_encodings[0].attention_mask[:30]"
      ],
      "execution_count": 654,
      "outputs": [
        {
          "output_type": "execute_result",
          "data": {
            "text/plain": [
              "[1,\n",
              " 1,\n",
              " 1,\n",
              " 1,\n",
              " 1,\n",
              " 1,\n",
              " 1,\n",
              " 1,\n",
              " 1,\n",
              " 1,\n",
              " 1,\n",
              " 1,\n",
              " 1,\n",
              " 1,\n",
              " 1,\n",
              " 1,\n",
              " 1,\n",
              " 1,\n",
              " 1,\n",
              " 1,\n",
              " 1,\n",
              " 1,\n",
              " 1,\n",
              " 0,\n",
              " 0,\n",
              " 0,\n",
              " 0,\n",
              " 0,\n",
              " 0,\n",
              " 0]"
            ]
          },
          "metadata": {
            "tags": []
          },
          "execution_count": 654
        }
      ]
    },
    {
      "cell_type": "code",
      "metadata": {
        "colab": {
          "base_uri": "https://localhost:8080/"
        },
        "id": "gPeRLPD_09L8",
        "outputId": "e9b62456-210c-480a-c77e-f9765316a410"
      },
      "source": [
        "len(train_encodings[2])"
      ],
      "execution_count": 655,
      "outputs": [
        {
          "output_type": "execute_result",
          "data": {
            "text/plain": [
              "102"
            ]
          },
          "metadata": {
            "tags": []
          },
          "execution_count": 655
        }
      ]
    },
    {
      "cell_type": "code",
      "metadata": {
        "id": "MirhbwMwQ8OP"
      },
      "source": [
        "import tensorflow as tf\n",
        "\n",
        "train_dataset = tf.data.Dataset.from_tensor_slices((\n",
        "    dict(train_encodings),\n",
        "    train_labels,\n",
        ")).batch(16)\n",
        "val_dataset = tf.data.Dataset.from_tensor_slices((\n",
        "    dict(val_encodings),\n",
        "    val_labels\n",
        ")).batch(16)\n",
        "test_dataset = tf.data.Dataset.from_tensor_slices((\n",
        "    dict(test_encodings),\n",
        "    test_labels\n",
        ")).batch(16)\n"
      ],
      "execution_count": 656,
      "outputs": []
    },
    {
      "cell_type": "markdown",
      "metadata": {
        "id": "eHDN0tAfq_kO"
      },
      "source": [
        "### Model Training"
      ]
    },
    {
      "cell_type": "code",
      "metadata": {
        "colab": {
          "base_uri": "https://localhost:8080/"
        },
        "id": "bNGlBBn9RCRK",
        "outputId": "910da440-8272-4a06-feac-049773d91706"
      },
      "source": [
        "\n",
        "from transformers import TFDistilBertForSequenceClassification\n",
        "\n",
        "model = TFDistilBertForSequenceClassification.from_pretrained('distilbert-base-uncased')\n",
        "\n",
        "optimizer = tf.keras.optimizers.Adam(learning_rate=5e-5)\n",
        "\n",
        "model.compile(optimizer=optimizer, \n",
        "              loss=model.compute_loss, \n",
        "              metrics=['accuracy'])\n",
        "\n",
        "history = model.fit(train_dataset.shuffle(1000),\n",
        "                    epochs=3, \n",
        "                    batch_size=16,\n",
        "                    validation_data=val_dataset)"
      ],
      "execution_count": 657,
      "outputs": [
        {
          "output_type": "stream",
          "text": [
            "Some layers from the model checkpoint at distilbert-base-uncased were not used when initializing TFDistilBertForSequenceClassification: ['vocab_layer_norm', 'activation_13', 'vocab_projector', 'vocab_transform']\n",
            "- This IS expected if you are initializing TFDistilBertForSequenceClassification from the checkpoint of a model trained on another task or with another architecture (e.g. initializing a BertForSequenceClassification model from a BertForPreTraining model).\n",
            "- This IS NOT expected if you are initializing TFDistilBertForSequenceClassification from the checkpoint of a model that you expect to be exactly identical (initializing a BertForSequenceClassification model from a BertForSequenceClassification model).\n",
            "Some layers of TFDistilBertForSequenceClassification were not initialized from the model checkpoint at distilbert-base-uncased and are newly initialized: ['classifier', 'pre_classifier', 'dropout_514']\n",
            "You should probably TRAIN this model on a down-stream task to be able to use it for predictions and inference.\n"
          ],
          "name": "stderr"
        },
        {
          "output_type": "stream",
          "text": [
            "Epoch 1/3\n",
            "WARNING:tensorflow:The parameters `output_attentions`, `output_hidden_states` and `use_cache` cannot be updated when calling a model.They have to be set to True/False in the config object (i.e.: `config=XConfig.from_pretrained('name', output_attentions=True)`).\n",
            "WARNING:tensorflow:The parameter `return_dict` cannot be set in graph mode and will always be set to `True`.\n",
            "WARNING:tensorflow:The parameters `output_attentions`, `output_hidden_states` and `use_cache` cannot be updated when calling a model.They have to be set to True/False in the config object (i.e.: `config=XConfig.from_pretrained('name', output_attentions=True)`).\n",
            "WARNING:tensorflow:The parameter `return_dict` cannot be set in graph mode and will always be set to `True`.\n",
            "4000/4000 [==============================] - ETA: 0s - loss: 0.3547 - accuracy: 0.8418WARNING:tensorflow:The parameters `output_attentions`, `output_hidden_states` and `use_cache` cannot be updated when calling a model.They have to be set to True/False in the config object (i.e.: `config=XConfig.from_pretrained('name', output_attentions=True)`).\n",
            "WARNING:tensorflow:The parameter `return_dict` cannot be set in graph mode and will always be set to `True`.\n",
            "4000/4000 [==============================] - 498s 122ms/step - loss: 0.3547 - accuracy: 0.8418 - val_loss: 0.3023 - val_accuracy: 0.8673\n",
            "Epoch 2/3\n",
            "4000/4000 [==============================] - 488s 122ms/step - loss: 0.2316 - accuracy: 0.9039 - val_loss: 0.3150 - val_accuracy: 0.8711\n",
            "Epoch 3/3\n",
            "4000/4000 [==============================] - 487s 122ms/step - loss: 0.1365 - accuracy: 0.9483 - val_loss: 0.4040 - val_accuracy: 0.8689\n"
          ],
          "name": "stdout"
        }
      ]
    },
    {
      "cell_type": "code",
      "metadata": {
        "colab": {
          "base_uri": "https://localhost:8080/",
          "height": 333
        },
        "id": "s_16l63fSyGH",
        "outputId": "16f2172d-3816-4984-96a4-cc2783cfee29"
      },
      "source": [
        "import matplotlib.pyplot as plt\n",
        "\n",
        "pd.DataFrame(history.history).plot(figsize=(8,5))\n",
        "plt.grid(True)\n",
        "plt.gca().set_ylim(0,1)\n",
        "plt.show()"
      ],
      "execution_count": 658,
      "outputs": [
        {
          "output_type": "display_data",
          "data": {
            "image/png": "[encoded data removed]",
            "text/plain": [
              "<Figure size 576x360 with 1 Axes>"
            ]
          },
          "metadata": {
            "tags": []
          }
        }
      ]
    },
    {
      "cell_type": "markdown",
      "metadata": {
        "id": "qGK0kkwdHKIH"
      },
      "source": [
        "there is a little bit of overfitting here, could be tweaked a bit more to aviid that"
      ]
    },
    {
      "cell_type": "code",
      "metadata": {
        "colab": {
          "base_uri": "https://localhost:8080/"
        },
        "id": "8WYBowCuL8gY",
        "outputId": "c4d112f1-7f04-4b6e-cfed-88562bf2fb51"
      },
      "source": [
        "model.evaluate(test_dataset)"
      ],
      "execution_count": 659,
      "outputs": [
        {
          "output_type": "stream",
          "text": [
            "WARNING:tensorflow:The parameters `output_attentions`, `output_hidden_states` and `use_cache` cannot be updated when calling a model.They have to be set to True/False in the config object (i.e.: `config=XConfig.from_pretrained('name', output_attentions=True)`).\n",
            "WARNING:tensorflow:The parameter `return_dict` cannot be set in graph mode and will always be set to `True`.\n",
            "1250/1250 [==============================] - 52s 40ms/step - loss: 0.4154 - accuracy: 0.8654\n"
          ],
          "name": "stdout"
        },
        {
          "output_type": "execute_result",
          "data": {
            "text/plain": [
              "[0.4154477119445801, 0.8654000163078308]"
            ]
          },
          "metadata": {
            "tags": []
          },
          "execution_count": 659
        }
      ]
    },
    {
      "cell_type": "markdown",
      "metadata": {
        "id": "tqdVxdQLfN6r"
      },
      "source": [
        "# Evaluation"
      ]
    },
    {
      "cell_type": "code",
      "metadata": {
        "id": "iH4JgoyVci2K"
      },
      "source": [
        "from sklearn import metrics\n",
        "\n",
        "def evaluate(model, test_dataset, test_labels):\n",
        "  pred_output = model.predict(test_dataset)\n",
        "  y_pred_prob = tf.nn.softmax(pred_output.logits,axis=-1).numpy()\n",
        "  threshold = 0.5\n",
        "  y_true = test_labels\n",
        "  y_pred_bool = (y_pred_prob[:, 1] >= threshold).astype(bool)\n",
        "  return {\n",
        "            'accuracy_score': metrics.accuracy_score(y_true, y_pred_bool),\n",
        "            'precision_score': metrics.precision_score(y_true, y_pred_bool),\n",
        "            'recall_score': metrics.recall_score(y_true, y_pred_bool),\n",
        "        }"
      ],
      "execution_count": 660,
      "outputs": []
    },
    {
      "cell_type": "code",
      "metadata": {
        "colab": {
          "base_uri": "https://localhost:8080/"
        },
        "id": "-SDvlV0UdAoI",
        "outputId": "22ed5386-6211-4d87-cf65-791b7074d547"
      },
      "source": [
        "evaluate(model, test_dataset, test_labels)"
      ],
      "execution_count": 661,
      "outputs": [
        {
          "output_type": "stream",
          "text": [
            "WARNING:tensorflow:The parameters `output_attentions`, `output_hidden_states` and `use_cache` cannot be updated when calling a model.They have to be set to True/False in the config object (i.e.: `config=XConfig.from_pretrained('name', output_attentions=True)`).\n",
            "WARNING:tensorflow:The parameter `return_dict` cannot be set in graph mode and will always be set to `True`.\n"
          ],
          "name": "stdout"
        },
        {
          "output_type": "execute_result",
          "data": {
            "text/plain": [
              "{'accuracy_score': 0.8654,\n",
              " 'precision_score': 0.8857894736842106,\n",
              " 'recall_score': 0.8396527639193774}"
            ]
          },
          "metadata": {
            "tags": []
          },
          "execution_count": 661
        }
      ]
    },
    {
      "cell_type": "code",
      "metadata": {
        "id": "pWrqGZY1drY9"
      },
      "source": [
        "pred_output = model.predict(test_dataset)\n",
        "y_pred_prob = tf.nn.softmax(pred_output.logits,axis=-1).numpy()\n",
        "threshold = 0.5\n",
        "y_true = test_labels\n",
        "y_pred_bool = (y_pred_prob[:, 1] >= threshold).astype(bool)"
      ],
      "execution_count": 662,
      "outputs": []
    },
    {
      "cell_type": "markdown",
      "metadata": {
        "id": "qDoxQyXBfeN8"
      },
      "source": [
        "### evaluation visualisation"
      ]
    },
    {
      "cell_type": "code",
      "metadata": {
        "id": "l4ohqL8Uem-f"
      },
      "source": [
        "import pathlib\n",
        "import pandas as pd\n",
        "import numpy as np\n",
        "import datetime\n",
        "import math\n",
        "from sklearn.metrics import confusion_matrix\n",
        "import seaborn as sns\n",
        "import matplotlib.pyplot as plt\n",
        "from sklearn import metrics\n",
        "import scikitplot as skplt\n",
        "\n",
        "\n",
        "class EvaluationReport:\n",
        "    def __init__(self, y_true, y_pred_prob, threshold: float):\n",
        "        \"\"\"\n",
        "        Provides evaluation metrics & plotting for churn prediction purposes.\n",
        "        Args:\n",
        "            y_true: array-like, array of true labels\n",
        "            y_pred_prob: array-like, predicted probability, with one column per class - just like output of scikit_model.predict_proba,\n",
        "                0th column should be churn == False probability, 1th column churn == True probability\n",
        "            threshold: threshold for binary classification label\n",
        "        \"\"\"\n",
        "        self.y_true = y_true\n",
        "        self.y_pred_prob = y_pred_prob\n",
        "        self.y_pred_bool = (y_pred_prob[:, 1] >= threshold).astype(bool)\n",
        "        self.threshold = threshold\n",
        "        self.predictions_explanations = pd.DataFrame()\n",
        "    def plot_confusion_matrix(self):\n",
        "        \"\"\"\n",
        "        Plots pretty confusion matrix.\n",
        "        \"\"\"\n",
        "        assert self.y_true.values.dtype == 'bool' and self.y_pred_bool.dtype == 'bool'\n",
        "        cm = confusion_matrix(self.y_true.values, self.y_pred_bool)\n",
        "        tn, fp, fn, tp = cm.ravel()\n",
        "        matrix_to_plot = [[tp, fp], [fn, tn]]\n",
        "\n",
        "        group_names = ['TN', 'FP', 'FN', 'TP']\n",
        "        group_counts = ['{0:0.0f}'.format(value) for value in cm.flatten()]\n",
        "        group_percentages = [\n",
        "            '{0:.2%} of all'.format(value) for value in cm.flatten() / np.sum(cm)\n",
        "        ]\n",
        "        row_percentages = [\n",
        "            '{0:.2%} of negatives'.format(tn / (tn + fn)),\n",
        "            '{0:.2%} of positives'.format(fp / (tp + fp)),\n",
        "            '{0:.2%} of negatives'.format(fn / (fn + tn)),\n",
        "            '{0:.2%} of positives'.format(tp / (tp + fp)),\n",
        "        ]\n",
        "        labels = [\n",
        "            f'{v1}\\n{v2}\\n{v3}\\n{v4}'\n",
        "            for v1, v2, v3, v4 in zip(\n",
        "                group_names, group_counts, group_percentages, row_percentages\n",
        "            )\n",
        "        ]\n",
        "        tn, fp, fn, tp = labels\n",
        "        labels = [[tp, fp], [fn, tn]]\n",
        "        labels = np.asarray(labels).reshape(2, 2)\n",
        "\n",
        "        ax = plt.subplot()\n",
        "        sns.heatmap(\n",
        "            matrix_to_plot,\n",
        "            annot=labels,\n",
        "            cmap=\"YlGnBu\",\n",
        "            linewidths=0.5,\n",
        "            fmt='',\n",
        "            ax=ax,\n",
        "            cbar=False,\n",
        "            xticklabels=[True, False],\n",
        "            yticklabels=[True, False],\n",
        "            annot_kws={\"size\": 16},\n",
        "            square=True,\n",
        "        )\n",
        "\n",
        "        sns.set(font_scale=1.4)\n",
        "        ax.set_xlabel('True values')\n",
        "        ax.set_ylabel('Predicted values')\n",
        "        plt.rc(\"figure\", figsize=(10, 10))\n",
        "\n",
        "    def plot_roc_curve(self):\n",
        "        \"\"\"\n",
        "        Plots ROC curve.\n",
        "        \"\"\"\n",
        "        plt.rc(\"figure\", figsize=(7, 7))\n",
        "        skplt.metrics.plot_roc(\n",
        "            self.y_true,\n",
        "            self.y_pred_prob,\n",
        "            plot_micro=False,\n",
        "            plot_macro=False,\n",
        "            classes_to_plot=True,\n",
        "            cmap=\"plasma\",\n",
        "        )\n",
        "        plt.show()"
      ],
      "execution_count": 663,
      "outputs": []
    },
    {
      "cell_type": "markdown",
      "metadata": {
        "id": "wqOGwHukfiz-"
      },
      "source": [
        "### confusition matrix ans RoC"
      ]
    },
    {
      "cell_type": "code",
      "metadata": {
        "id": "WN0natvKdlNG"
      },
      "source": [
        "\n",
        "r = EvaluationReport(pd.DataFrame(y_true.astype(bool)), y_pred_prob, 0.5)"
      ],
      "execution_count": 664,
      "outputs": []
    },
    {
      "cell_type": "code",
      "metadata": {
        "colab": {
          "base_uri": "https://localhost:8080/",
          "height": 458
        },
        "id": "WUJ3RZAHdbp2",
        "outputId": "c7d63451-4105-4170-a396-3681656a80d3"
      },
      "source": [
        "r.plot_confusion_matrix()"
      ],
      "execution_count": 665,
      "outputs": [
        {
          "output_type": "display_data",
          "data": {
            "image/png": "[encoded data removed]",
            "text/plain": [
              "<Figure size 504x504 with 1 Axes>"
            ]
          },
          "metadata": {
            "tags": []
          }
        }
      ]
    },
    {
      "cell_type": "code",
      "metadata": {
        "colab": {
          "base_uri": "https://localhost:8080/",
          "height": 482
        },
        "id": "1GhYVf2BesvN",
        "outputId": "6ac9dd78-84ba-4c25-d228-d2ceb3be2915"
      },
      "source": [
        "r.plot_roc_curve()"
      ],
      "execution_count": 666,
      "outputs": [
        {
          "output_type": "display_data",
          "data": {
            "image/png": "[encoded data removed]",
            "text/plain": [
              "<Figure size 504x504 with 1 Axes>"
            ]
          },
          "metadata": {
            "tags": []
          }
        }
      ]
    },
    {
      "cell_type": "code",
      "metadata": {
        "id": "tnqzf7rxessg"
      },
      "source": [
        ""
      ],
      "execution_count": 666,
      "outputs": []
    },
    {
      "cell_type": "markdown",
      "metadata": {
        "id": "1DLqPdCpfwLk"
      },
      "source": [
        "# example prediction & storing artifacts"
      ]
    },
    {
      "cell_type": "code",
      "metadata": {
        "colab": {
          "base_uri": "https://localhost:8080/",
          "height": 359
        },
        "id": "BPp7bajIKgzu",
        "outputId": "e8638c44-c9c7-4f63-8263-9a403ecc7b20"
      },
      "source": [
        "df.sample(10)"
      ],
      "execution_count": 698,
      "outputs": [
        {
          "output_type": "execute_result",
          "data": {
            "text/html": [
              "<div>\n",
              "<style scoped>\n",
              "    .dataframe tbody tr th:only-of-type {\n",
              "        vertical-align: middle;\n",
              "    }\n",
              "\n",
              "    .dataframe tbody tr th {\n",
              "        vertical-align: top;\n",
              "    }\n",
              "\n",
              "    .dataframe thead th {\n",
              "        text-align: right;\n",
              "    }\n",
              "</style>\n",
              "<table border=\"1\" class=\"dataframe\">\n",
              "  <thead>\n",
              "    <tr style=\"text-align: right;\">\n",
              "      <th></th>\n",
              "      <th>text</th>\n",
              "      <th>text_clean</th>\n",
              "      <th>is_troll</th>\n",
              "    </tr>\n",
              "  </thead>\n",
              "  <tbody>\n",
              "    <tr>\n",
              "      <th>648644</th>\n",
              "      <td>RT @RelaKStheSlaker: #ItsMuchBetterTo keep you...</td>\n",
              "      <td>ItsMuchBetterTo keep your chapstick with you.</td>\n",
              "      <td>1.0</td>\n",
              "    </tr>\n",
              "    <tr>\n",
              "      <th>502219</th>\n",
              "      <td>RT @redflagnews: Obama Unleashes 3,853 Regs, 1...</td>\n",
              "      <td>Obama Unleashes 3,853 Regs, 18 For Every Law, ...</td>\n",
              "      <td>1.0</td>\n",
              "    </tr>\n",
              "    <tr>\n",
              "      <th>529397</th>\n",
              "      <td>RT @Chris_1791: 'Rubio Vice' shows just how Mi...</td>\n",
              "      <td>1791: 'Rubio Vice' shows just how Miami playe...</td>\n",
              "      <td>1.0</td>\n",
              "    </tr>\n",
              "    <tr>\n",
              "      <th>50850</th>\n",
              "      <td>@giselle97 @Ryan_H_S @Nifty_Junior @Imogenlemo...</td>\n",
              "      <td>I love JC. Great human our next PM. 😊🙏🏼</td>\n",
              "      <td>0.0</td>\n",
              "    </tr>\n",
              "    <tr>\n",
              "      <th>486518</th>\n",
              "      <td>WATCH🚨 Terrorist experts: Obama is the founder...</td>\n",
              "      <td>WATCH🚨 Terrorist experts: Obama is the founder...</td>\n",
              "      <td>1.0</td>\n",
              "    </tr>\n",
              "    <tr>\n",
              "      <th>645855</th>\n",
              "      <td>RT @NolanHack: He mixing if a Hillary wins, to...</td>\n",
              "      <td>He mixing if a Hillary wins, too? TheyreBothTh...</td>\n",
              "      <td>1.0</td>\n",
              "    </tr>\n",
              "    <tr>\n",
              "      <th>480683</th>\n",
              "      <td>RT @YoungDems4Trump: This is all Soros' fault ...</td>\n",
              "      <td>This is all Soros' fault via Hillary.</td>\n",
              "      <td>1.0</td>\n",
              "    </tr>\n",
              "    <tr>\n",
              "      <th>36234</th>\n",
              "      <td>I don't want to your friend 🎈 @JncFTW https://...</td>\n",
              "      <td>I don't want to your friend 🎈</td>\n",
              "      <td>0.0</td>\n",
              "    </tr>\n",
              "    <tr>\n",
              "      <th>73976</th>\n",
              "      <td>RT @Dxpeyy: #CONCOURS 🔥\\n\\nTENTE DE GAGNER UN ...</td>\n",
              "      <td>CONCOURS 🔥 TENTE DE GAGNER UN FIFA18 LEGACY ES...</td>\n",
              "      <td>0.0</td>\n",
              "    </tr>\n",
              "    <tr>\n",
              "      <th>596216</th>\n",
              "      <td>RT @nytimes: Steve Bannon’s role is diminished...</td>\n",
              "      <td>Steve Bannon’s role is diminished as other adv...</td>\n",
              "      <td>1.0</td>\n",
              "    </tr>\n",
              "  </tbody>\n",
              "</table>\n",
              "</div>"
            ],
            "text/plain": [
              "                                                     text  ... is_troll\n",
              "648644  RT @RelaKStheSlaker: #ItsMuchBetterTo keep you...  ...      1.0\n",
              "502219  RT @redflagnews: Obama Unleashes 3,853 Regs, 1...  ...      1.0\n",
              "529397  RT @Chris_1791: 'Rubio Vice' shows just how Mi...  ...      1.0\n",
              "50850   @giselle97 @Ryan_H_S @Nifty_Junior @Imogenlemo...  ...      0.0\n",
              "486518  WATCH🚨 Terrorist experts: Obama is the founder...  ...      1.0\n",
              "645855  RT @NolanHack: He mixing if a Hillary wins, to...  ...      1.0\n",
              "480683  RT @YoungDems4Trump: This is all Soros' fault ...  ...      1.0\n",
              "36234   I don't want to your friend 🎈 @JncFTW https://...  ...      0.0\n",
              "73976   RT @Dxpeyy: #CONCOURS 🔥\\n\\nTENTE DE GAGNER UN ...  ...      0.0\n",
              "596216  RT @nytimes: Steve Bannon’s role is diminished...  ...      1.0\n",
              "\n",
              "[10 rows x 3 columns]"
            ]
          },
          "metadata": {
            "tags": []
          },
          "execution_count": 698
        }
      ]
    },
    {
      "cell_type": "markdown",
      "metadata": {
        "id": "KpZDtjavKglW"
      },
      "source": [
        ""
      ]
    },
    {
      "cell_type": "code",
      "metadata": {
        "id": "ZyOFHUKmiadG"
      },
      "source": [
        "from transformers import pipeline\n",
        "\n",
        "russian_trolls_pipeline = pipeline('text-classification', model=model, tokenizer=tokenizer, return_all_scores=True) #tockeniser parms?"
      ],
      "execution_count": 667,
      "outputs": []
    },
    {
      "cell_type": "code",
      "metadata": {
        "colab": {
          "base_uri": "https://localhost:8080/"
        },
        "id": "OSD_FNE5iaah",
        "outputId": "6a5ebea9-3720-4fff-89db-7905a26218bb"
      },
      "source": [
        "sample_text = 'BREAKING 🚨 HUGE in streets of ! like real chaos !'\n",
        "russian_trolls_pipeline(sample_text,truncation=True)"
      ],
      "execution_count": 668,
      "outputs": [
        {
          "output_type": "execute_result",
          "data": {
            "text/plain": [
              "[[{'label': 'LABEL_0', 'score': 0.5548282265663147},\n",
              "  {'label': 'LABEL_1', 'score': 0.4451717138290405}]]"
            ]
          },
          "metadata": {
            "tags": []
          },
          "execution_count": 668
        }
      ]
    },
    {
      "cell_type": "code",
      "metadata": {
        "colab": {
          "base_uri": "https://localhost:8080/"
        },
        "id": "HHn8L5d31yEF",
        "outputId": "9cfc886f-2139-47cd-fd26-44bb5aff7476"
      },
      "source": [
        "sample_text = 'I hate hilary and trump'\n",
        "russian_trolls_pipeline(sample_text, truncation=True)"
      ],
      "execution_count": 669,
      "outputs": [
        {
          "output_type": "execute_result",
          "data": {
            "text/plain": [
              "[[{'label': 'LABEL_0', 'score': 0.010544609278440475},\n",
              "  {'label': 'LABEL_1', 'score': 0.9894554018974304}]]"
            ]
          },
          "metadata": {
            "tags": []
          },
          "execution_count": 669
        }
      ]
    },
    {
      "cell_type": "code",
      "metadata": {
        "colab": {
          "base_uri": "https://localhost:8080/"
        },
        "id": "uApV_XDx12a5",
        "outputId": "6f390efb-5abc-49de-b4c9-8dcd485d7279"
      },
      "source": [
        "sample_text = 'I love pizza, need to talk with God!'\n",
        "russian_trolls_pipeline(sample_text, truncation=True)"
      ],
      "execution_count": 670,
      "outputs": [
        {
          "output_type": "execute_result",
          "data": {
            "text/plain": [
              "[[{'label': 'LABEL_0', 'score': 0.8969211578369141},\n",
              "  {'label': 'LABEL_1', 'score': 0.10307884216308594}]]"
            ]
          },
          "metadata": {
            "tags": []
          },
          "execution_count": 670
        }
      ]
    },
    {
      "cell_type": "code",
      "metadata": {
        "id": "DcsICus5sS62"
      },
      "source": [
        "## artifacts"
      ],
      "execution_count": 671,
      "outputs": []
    },
    {
      "cell_type": "code",
      "metadata": {
        "id": "viUx8nNotGM6"
      },
      "source": [
        "import datetime\n",
        "import os\n",
        "\n",
        "artifact_name = f\"trolls_classifier_{datetime.datetime.today().strftime('%Y%m%dT%H%M%S')}\"  \n",
        "artifact_dir = \"artifacts/\" + artifact_name\n",
        "os.makedirs(artifact_dir)"
      ],
      "execution_count": 672,
      "outputs": []
    },
    {
      "cell_type": "code",
      "metadata": {
        "colab": {
          "base_uri": "https://localhost:8080/",
          "height": 35
        },
        "id": "y1KK3z3O_yCc",
        "outputId": "9467e7b3-ffaf-48d8-bc46-f74011d1e08c"
      },
      "source": [
        "artifact_dir"
      ],
      "execution_count": 673,
      "outputs": [
        {
          "output_type": "execute_result",
          "data": {
            "application/vnd.google.colaboratory.intrinsic+json": {
              "type": "string"
            },
            "text/plain": [
              "'artifacts/trolls_classifier_20210611T220639'"
            ]
          },
          "metadata": {
            "tags": []
          },
          "execution_count": 673
        }
      ]
    },
    {
      "cell_type": "code",
      "metadata": {
        "id": "mTogeckesSuX"
      },
      "source": [
        "tokenizer.save_pretrained(artifact_dir)\n",
        "model.save_pretrained(artifact_dir)"
      ],
      "execution_count": 674,
      "outputs": []
    },
    {
      "cell_type": "code",
      "metadata": {
        "colab": {
          "base_uri": "https://localhost:8080/"
        },
        "id": "hGB-Wa-B_tUa",
        "outputId": "4cb75594-87d9-4bbb-d463-9027fb837597"
      },
      "source": [
        "!tar -zcvf {artifact_dir}.tar.gz {artifact_dir}"
      ],
      "execution_count": 675,
      "outputs": [
        {
          "output_type": "stream",
          "text": [
            "artifacts/trolls_classifier_20210611T220639/\n",
            "artifacts/trolls_classifier_20210611T220639/config.json\n",
            "artifacts/trolls_classifier_20210611T220639/tf_model.h5\n",
            "artifacts/trolls_classifier_20210611T220639/tokenizer_config.json\n",
            "artifacts/trolls_classifier_20210611T220639/special_tokens_map.json\n",
            "artifacts/trolls_classifier_20210611T220639/vocab.txt\n",
            "artifacts/trolls_classifier_20210611T220639/tokenizer.json\n"
          ],
          "name": "stdout"
        }
      ]
    },
    {
      "cell_type": "code",
      "metadata": {
        "colab": {
          "base_uri": "https://localhost:8080/"
        },
        "id": "PIVzUhqDxJCF",
        "outputId": "590d320d-54fa-4954-83bc-0bf3a045b355"
      },
      "source": [
        "from transformers import TFAutoModelWithLMHead, AutoTokenizer\n",
        "\n",
        "tokenizer_loaded = AutoTokenizer.from_pretrained(artifact_dir)\n",
        "model_loaded = TFDistilBertForSequenceClassification.from_pretrained(artifact_dir)"
      ],
      "execution_count": 676,
      "outputs": [
        {
          "output_type": "stream",
          "text": [
            "Some layers from the model checkpoint at artifacts/trolls_classifier_20210611T220639 were not used when initializing TFDistilBertForSequenceClassification: ['dropout_514']\n",
            "- This IS expected if you are initializing TFDistilBertForSequenceClassification from the checkpoint of a model trained on another task or with another architecture (e.g. initializing a BertForSequenceClassification model from a BertForPreTraining model).\n",
            "- This IS NOT expected if you are initializing TFDistilBertForSequenceClassification from the checkpoint of a model that you expect to be exactly identical (initializing a BertForSequenceClassification model from a BertForSequenceClassification model).\n",
            "Some layers of TFDistilBertForSequenceClassification were not initialized from the model checkpoint at artifacts/trolls_classifier_20210611T220639 and are newly initialized: ['dropout_534']\n",
            "You should probably TRAIN this model on a down-stream task to be able to use it for predictions and inference.\n"
          ],
          "name": "stderr"
        }
      ]
    },
    {
      "cell_type": "code",
      "metadata": {
        "id": "Sn6p3e1uydmG"
      },
      "source": [
        "russian_trolls_pipeline_loaded = pipeline('text-classification', model=model_loaded, tokenizer=tokenizer_loaded, return_all_scores=True) "
      ],
      "execution_count": 677,
      "outputs": []
    },
    {
      "cell_type": "code",
      "metadata": {
        "id": "8u1ihUojyyxI"
      },
      "source": [
        "sample_text = 'BREAKING 🚨 HUGE in streets of ! like real chaos !'\n",
        "output = russian_trolls_pipeline_loaded(sample_text,truncation=True)"
      ],
      "execution_count": 691,
      "outputs": []
    },
    {
      "cell_type": "code",
      "metadata": {
        "colab": {
          "base_uri": "https://localhost:8080/"
        },
        "id": "5zVbAUplJZsK",
        "outputId": "41d4aac2-4041-4aca-c4e2-1e41e804ca23"
      },
      "source": [
        "for i in output[0]:\n",
        "    if i[\"label\"] == \"LABEL_1\":\n",
        "      probability = i[\"score\"]\n",
        "      prediction = i[\"score\"] > threshold"
      ],
      "execution_count": 697,
      "outputs": [
        {
          "output_type": "stream",
          "text": [
            "{'label': 'LABEL_1', 'score': 0.4451717138290405}\n"
          ],
          "name": "stdout"
        }
      ]
    },
    {
      "cell_type": "markdown",
      "metadata": {
        "id": "5Qo3CQLNrvNN"
      },
      "source": [
        "# shapley values"
      ]
    },
    {
      "cell_type": "code",
      "metadata": {
        "id": "BxfF2xlMpaAo"
      },
      "source": [
        "#the above can be deployed"
      ],
      "execution_count": 679,
      "outputs": []
    },
    {
      "cell_type": "code",
      "metadata": {
        "id": "uWSMrqrEbPpF"
      },
      "source": [
        "short_data = df.sample(1).text_clean.values"
      ],
      "execution_count": 714,
      "outputs": []
    },
    {
      "cell_type": "code",
      "metadata": {
        "id": "iiy_6XFLaZVd"
      },
      "source": [
        "# define the explainer\n",
        "explainer = shap.Explainer(russian_trolls_pipeline,  russian_trolls_pipeline.tokenizer)"
      ],
      "execution_count": 715,
      "outputs": []
    },
    {
      "cell_type": "code",
      "metadata": {
        "colab": {
          "base_uri": "https://localhost:8080/"
        },
        "id": "Yp1tXGhKblhS",
        "outputId": "b56102bc-c7ab-44e9-9a5b-f9cc533d2f92"
      },
      "source": [
        "short_data"
      ],
      "execution_count": 706,
      "outputs": [
        {
          "output_type": "execute_result",
          "data": {
            "text/plain": [
              "array(['Incredibly satisfying to watch'], dtype=object)"
            ]
          },
          "metadata": {
            "tags": []
          },
          "execution_count": 706
        }
      ]
    },
    {
      "cell_type": "code",
      "metadata": {
        "id": "10AfPH2xaZTH"
      },
      "source": [
        "shap_values = explainer([\"WATCH🚨 Terrorist experts: Obama is the founder of ISIS\"])\n"
      ],
      "execution_count": 721,
      "outputs": []
    },
    {
      "cell_type": "code",
      "metadata": {
        "colab": {
          "base_uri": "https://localhost:8080/"
        },
        "id": "g2dLV5xjMqNk",
        "outputId": "bcccaafc-6afe-42ff-dcbc-4b5a24016939"
      },
      "source": [
        "type(shap_values)"
      ],
      "execution_count": 722,
      "outputs": [
        {
          "output_type": "execute_result",
          "data": {
            "text/plain": [
              "shap._explanation.Explanation"
            ]
          },
          "metadata": {
            "tags": []
          },
          "execution_count": 722
        }
      ]
    },
    {
      "cell_type": "code",
      "metadata": {
        "colab": {
          "base_uri": "https://localhost:8080/",
          "height": 152
        },
        "id": "se1DP03kaiCF",
        "outputId": "5169818c-9a23-4c81-ad3f-8c2d08bb2fc2"
      },
      "source": [
        "shap.plots.text(shap_values[:,:,\"LABEL_1\"])\n"
      ],
      "execution_count": 723,
      "outputs": [
        {
          "output_type": "display_data",
          "data": {
            "text/html": [
              "<br/><b>0th instance:</b><br/>"
            ],
            "text/plain": [
              "<IPython.core.display.HTML object>"
            ]
          },
          "metadata": {
            "tags": []
          }
        },
        {
          "output_type": "display_data",
          "data": {
            "text/html": [
              "<svg width=\"100%\" height=\"80px\"><line x1=\"0\" y1=\"33\" x2=\"100%\" y2=\"33\" style=\"stroke:rgb(150,150,150);stroke-width:1\" /><line x1=\"8.772936%\" y1=\"33\" x2=\"8.772936%\" y2=\"37\" style=\"stroke:rgb(150,150,150);stroke-width:1\" /><text x=\"8.772936%\" y=\"27\" font-size=\"12px\" fill=\"rgb(120,120,120)\" dominant-baseline=\"bottom\" text-anchor=\"middle\">-2.470226</text><text x=\"8.772936%\" y=\"10\" font-size=\"12px\" fill=\"rgb(120,120,120)\" dominant-baseline=\"bottom\" text-anchor=\"middle\">base value</text><line x1=\"23.058651%\" y1=\"33\" x2=\"23.058651%\" y2=\"37\" style=\"stroke:rgb(150,150,150);stroke-width:1\" /><text x=\"23.058651%\" y=\"27\" font-size=\"12px\" fill=\"rgb(120,120,120)\" dominant-baseline=\"bottom\" text-anchor=\"middle\">-0.969962</text><line x1=\"37.344365%\" y1=\"33\" x2=\"37.344365%\" y2=\"37\" style=\"stroke:rgb(150,150,150);stroke-width:1\" /><text x=\"37.344365%\" y=\"27\" font-size=\"12px\" fill=\"rgb(120,120,120)\" dominant-baseline=\"bottom\" text-anchor=\"middle\">0.530301</text><line x1=\"51.630079%\" y1=\"33\" x2=\"51.630079%\" y2=\"37\" style=\"stroke:rgb(150,150,150);stroke-width:1\" /><text x=\"51.630079%\" y=\"27\" font-size=\"12px\" fill=\"rgb(120,120,120)\" dominant-baseline=\"bottom\" text-anchor=\"middle\">2.030565</text><line x1=\"65.915793%\" y1=\"33\" x2=\"65.915793%\" y2=\"37\" style=\"stroke:rgb(150,150,150);stroke-width:1\" /><text x=\"65.915793%\" y=\"27\" font-size=\"12px\" fill=\"rgb(120,120,120)\" dominant-baseline=\"bottom\" text-anchor=\"middle\">3.530829</text><line x1=\"80.201508%\" y1=\"33\" x2=\"80.201508%\" y2=\"37\" style=\"stroke:rgb(150,150,150);stroke-width:1\" /><text x=\"80.201508%\" y=\"27\" font-size=\"12px\" fill=\"rgb(120,120,120)\" dominant-baseline=\"bottom\" text-anchor=\"middle\">5.031093</text><line x1=\"91.227064%\" y1=\"33\" x2=\"91.227064%\" y2=\"37\" style=\"stroke:rgb(150,150,150);stroke-width:1\" /><text x=\"91.227064%\" y=\"27\" font-size=\"13px\" style=\"stroke:#ffffff;stroke-width:8px;\" font-weight=\"bold\" fill=\"rgb(255,255,255)\" dominant-baseline=\"bottom\" text-anchor=\"middle\">6.188980</text><text x=\"91.227064%\" y=\"27\" font-size=\"13px\" font-weight=\"bold\" fill=\"rgb(0,0,0)\" dominant-baseline=\"bottom\" text-anchor=\"middle\">6.188980</text><text x=\"91.227064%\" y=\"10\" font-size=\"12px\" fill=\"rgb(120,120,120)\" dominant-baseline=\"bottom\" text-anchor=\"middle\">f(x)</text><rect x=\"8.333333333333332%\" width=\"82.89373041276419%\" y=\"40\" height=\"18\" style=\"fill:rgb(255.0, 0.0, 81.08083606031792); stroke-width:0; stroke:rgb(0,0,0)\" /><line x1=\"62.985766739862385%\" x2=\"91.22706374609751%\" y1=\"60\" y2=\"60\" id=\"_fb_jjzhdjexxlkzsnzkfyqn_ind_5\" style=\"stroke:rgb(255.0, 0.0, 81.08083606031792);stroke-width:2; opacity: 0\"/><text x=\"77.10641524297995%\" y=\"71\" font-size=\"12px\" id=\"_fs_jjzhdjexxlkzsnzkfyqn_ind_5\" fill=\"rgb(255.0, 0.0, 81.08083606031792)\" style=\"opacity: 0\" dominant-baseline=\"middle\" text-anchor=\"middle\">2.966</text><svg x=\"62.985766739862385%\" y=\"40\" height=\"20\" width=\"28.24129700623513%\">  <svg x=\"0\" y=\"0\" width=\"100%\" height=\"100%\">    <text x=\"50%\" y=\"9\" font-size=\"12px\" fill=\"rgb(255,255,255)\" dominant-baseline=\"middle\" text-anchor=\"middle\">Obama</text>  </svg></svg><line x1=\"40.16555787141678%\" x2=\"62.985766739862385%\" y1=\"60\" y2=\"60\" id=\"_fb_jjzhdjexxlkzsnzkfyqn_ind_7\" style=\"stroke:rgb(255.0, 0.0, 81.08083606031792);stroke-width:2; opacity: 0\"/><text x=\"51.57566230563958%\" y=\"71\" font-size=\"12px\" id=\"_fs_jjzhdjexxlkzsnzkfyqn_ind_7\" fill=\"rgb(255.0, 0.0, 81.08083606031792)\" style=\"opacity: 0\" dominant-baseline=\"middle\" text-anchor=\"middle\">2.397</text><svg x=\"40.16555787141678%\" y=\"40\" height=\"20\" width=\"22.820208868445604%\">  <svg x=\"0\" y=\"0\" width=\"100%\" height=\"100%\">    <text x=\"50%\" y=\"9\" font-size=\"12px\" fill=\"rgb(255,255,255)\" dominant-baseline=\"middle\" text-anchor=\"middle\">founder of ISIS</text>  </svg></svg><line x1=\"26.358871726690936%\" x2=\"40.16555787141678%\" y1=\"60\" y2=\"60\" id=\"_fb_jjzhdjexxlkzsnzkfyqn_ind_2\" style=\"stroke:rgb(255.0, 0.0, 81.08083606031792);stroke-width:2; opacity: 0\"/><text x=\"33.26221479905386%\" y=\"71\" font-size=\"12px\" id=\"_fs_jjzhdjexxlkzsnzkfyqn_ind_2\" fill=\"rgb(255.0, 0.0, 81.08083606031792)\" style=\"opacity: 0\" dominant-baseline=\"middle\" text-anchor=\"middle\">1.45</text><svg x=\"26.358871726690936%\" y=\"40\" height=\"20\" width=\"13.806686144725845%\">  <svg x=\"0\" y=\"0\" width=\"100%\" height=\"100%\">    <text x=\"50%\" y=\"9\" font-size=\"12px\" fill=\"rgb(255,255,255)\" dominant-baseline=\"middle\" text-anchor=\"middle\">Terrorist</text>  </svg></svg><line x1=\"18.116365661886856%\" x2=\"26.358871726690936%\" y1=\"60\" y2=\"60\" id=\"_fb_jjzhdjexxlkzsnzkfyqn_ind_3\" style=\"stroke:rgb(255.0, 0.0, 81.08083606031792);stroke-width:2; opacity: 0\"/><text x=\"22.237618694288898%\" y=\"71\" font-size=\"12px\" id=\"_fs_jjzhdjexxlkzsnzkfyqn_ind_3\" fill=\"rgb(255.0, 0.0, 81.08083606031792)\" style=\"opacity: 0\" dominant-baseline=\"middle\" text-anchor=\"middle\">0.866</text><svg x=\"18.116365661886856%\" y=\"40\" height=\"20\" width=\"8.242506064804079%\">  <svg x=\"0\" y=\"0\" width=\"100%\" height=\"100%\">    <text x=\"50%\" y=\"9\" font-size=\"12px\" fill=\"rgb(255,255,255)\" dominant-baseline=\"middle\" text-anchor=\"middle\">experts</text>  </svg></svg><line x1=\"10.952619707739435%\" x2=\"18.116365661886856%\" y1=\"60\" y2=\"60\" id=\"_fb_jjzhdjexxlkzsnzkfyqn_ind_4\" style=\"stroke:rgb(255.0, 0.0, 81.08083606031792);stroke-width:2; opacity: 0\"/><text x=\"14.534492684813145%\" y=\"71\" font-size=\"12px\" id=\"_fs_jjzhdjexxlkzsnzkfyqn_ind_4\" fill=\"rgb(255.0, 0.0, 81.08083606031792)\" style=\"opacity: 0\" dominant-baseline=\"middle\" text-anchor=\"middle\">0.752</text><svg x=\"10.952619707739435%\" y=\"40\" height=\"20\" width=\"7.163745954147421%\">  <svg x=\"0\" y=\"0\" width=\"100%\" height=\"100%\">    <text x=\"50%\" y=\"9\" font-size=\"12px\" fill=\"rgb(255,255,255)\" dominant-baseline=\"middle\" text-anchor=\"middle\">:</text>  </svg></svg><line x1=\"9.375867076226463%\" x2=\"10.952619707739435%\" y1=\"60\" y2=\"60\" id=\"_fb_jjzhdjexxlkzsnzkfyqn_ind_6\" style=\"stroke:rgb(255.0, 0.0, 81.08083606031792);stroke-width:2; opacity: 0\"/><text x=\"10.16424339198295%\" y=\"71\" font-size=\"12px\" id=\"_fs_jjzhdjexxlkzsnzkfyqn_ind_6\" fill=\"rgb(255.0, 0.0, 81.08083606031792)\" style=\"opacity: 0\" dominant-baseline=\"middle\" text-anchor=\"middle\">0.166</text><svg x=\"9.375867076226463%\" y=\"40\" height=\"20\" width=\"1.5767526315129725%\">  <svg x=\"0\" y=\"0\" width=\"100%\" height=\"100%\">    <text x=\"50%\" y=\"9\" font-size=\"12px\" fill=\"rgb(255,255,255)\" dominant-baseline=\"middle\" text-anchor=\"middle\">is the</text>  </svg></svg><line x1=\"8.333333333333323%\" x2=\"9.375867076226463%\" y1=\"60\" y2=\"60\" id=\"_fb_jjzhdjexxlkzsnzkfyqn_ind_1\" style=\"stroke:rgb(255.0, 0.0, 81.08083606031792);stroke-width:2; opacity: 0\"/><text x=\"8.854600204779892%\" y=\"71\" font-size=\"12px\" id=\"_fs_jjzhdjexxlkzsnzkfyqn_ind_1\" fill=\"rgb(255.0, 0.0, 81.08083606031792)\" style=\"opacity: 0\" dominant-baseline=\"middle\" text-anchor=\"middle\">0.109</text><svg x=\"8.333333333333323%\" y=\"40\" height=\"20\" width=\"1.0425337428931396%\">  <svg x=\"0\" y=\"0\" width=\"100%\" height=\"100%\">    <text x=\"50%\" y=\"9\" font-size=\"12px\" fill=\"rgb(255,255,255)\" dominant-baseline=\"middle\" text-anchor=\"middle\">WATCH🚨</text>  </svg></svg><g transform=\"translate(0,0)\">  <svg x=\"62.985766739862385%\" y=\"40\" height=\"18\" overflow=\"visible\" width=\"30\">    <path d=\"M 0 -9 l 6 18 L 0 25\" fill=\"none\" style=\"stroke:rgb(255.0, 0.0, 81.08083606031792);stroke-width:2\" />  </svg></g><g transform=\"translate(2,0)\">  <svg x=\"62.985766739862385%\" y=\"40\" height=\"18\" overflow=\"visible\" width=\"30\">    <path d=\"M 0 -9 l 6 18 L 0 25\" fill=\"none\" style=\"stroke:rgb(255.0, 0.0, 81.08083606031792);stroke-width:2\" />  </svg></g><g transform=\"translate(4,0)\">  <svg x=\"62.985766739862385%\" y=\"40\" height=\"18\" overflow=\"visible\" width=\"30\">    <path d=\"M 0 -9 l 6 18 L 0 25\" fill=\"none\" style=\"stroke:rgb(255.0, 0.0, 81.08083606031792);stroke-width:2\" />  </svg></g><g transform=\"translate(6,0)\">  <svg x=\"62.985766739862385%\" y=\"40\" height=\"18\" overflow=\"visible\" width=\"30\">    <path d=\"M 0 -9 l 6 18 L 0 25\" fill=\"none\" style=\"stroke:rgb(255.0, 0.0, 81.08083606031792);stroke-width:2\" />  </svg></g><g transform=\"translate(-8,0)\">  <svg x=\"62.985766739862385%\" y=\"40\" height=\"18\" overflow=\"visible\" width=\"30\">    <path d=\"M 0 -9 l 6 18 L 0 25\" fill=\"none\" style=\"stroke:rgb(255.0, 0.0, 81.08083606031792);stroke-width:2\" />  </svg></g><g transform=\"translate(-6,0)\">  <svg x=\"62.985766739862385%\" y=\"40\" height=\"18\" overflow=\"visible\" width=\"30\">    <path d=\"M 0 -9 l 6 18 L 0 25\" fill=\"none\" style=\"stroke:rgb(255.0, 0.0, 81.08083606031792);stroke-width:2\" />  </svg></g><g transform=\"translate(-4,0)\">  <svg x=\"62.985766739862385%\" y=\"40\" height=\"18\" overflow=\"visible\" width=\"30\">    <path d=\"M 0 -9 l 6 18 L 0 25\" fill=\"none\" style=\"stroke:rgb(255.0, 0.0, 81.08083606031792);stroke-width:2\" />  </svg></g><g transform=\"translate(-2,0)\">  <svg x=\"62.985766739862385%\" y=\"40\" height=\"18\" overflow=\"visible\" width=\"30\">    <path d=\"M 0 -9 l 6 18 L 0 25\" fill=\"none\" style=\"stroke:rgb(255.0, 0.0, 81.08083606031792);stroke-width:2\" />  </svg></g><g transform=\"translate(0,0)\">  <svg x=\"40.16555787141678%\" y=\"40\" height=\"18\" overflow=\"visible\" width=\"30\">    <path d=\"M 0 -9 l 6 18 L 0 25\" fill=\"none\" style=\"stroke:rgb(255.0, 0.0, 81.08083606031792);stroke-width:2\" />  </svg></g><g transform=\"translate(2,0)\">  <svg x=\"40.16555787141678%\" y=\"40\" height=\"18\" overflow=\"visible\" width=\"30\">    <path d=\"M 0 -9 l 6 18 L 0 25\" fill=\"none\" style=\"stroke:rgb(255.0, 0.0, 81.08083606031792);stroke-width:2\" />  </svg></g><g transform=\"translate(4,0)\">  <svg x=\"40.16555787141678%\" y=\"40\" height=\"18\" overflow=\"visible\" width=\"30\">    <path d=\"M 0 -9 l 6 18 L 0 25\" fill=\"none\" style=\"stroke:rgb(255.0, 0.0, 81.08083606031792);stroke-width:2\" />  </svg></g><g transform=\"translate(6,0)\">  <svg x=\"40.16555787141678%\" y=\"40\" height=\"18\" overflow=\"visible\" width=\"30\">    <path d=\"M 0 -9 l 6 18 L 0 25\" fill=\"none\" style=\"stroke:rgb(255.0, 0.0, 81.08083606031792);stroke-width:2\" />  </svg></g><g transform=\"translate(-8,0)\">  <svg x=\"40.16555787141678%\" y=\"40\" height=\"18\" overflow=\"visible\" width=\"30\">    <path d=\"M 0 -9 l 6 18 L 0 25\" fill=\"none\" style=\"stroke:rgb(255.0, 0.0, 81.08083606031792);stroke-width:2\" />  </svg></g><g transform=\"translate(-6,0)\">  <svg x=\"40.16555787141678%\" y=\"40\" height=\"18\" overflow=\"visible\" width=\"30\">    <path d=\"M 0 -9 l 6 18 L 0 25\" fill=\"none\" style=\"stroke:rgb(255.0, 0.0, 81.08083606031792);stroke-width:2\" />  </svg></g><g transform=\"translate(-4,0)\">  <svg x=\"40.16555787141678%\" y=\"40\" height=\"18\" overflow=\"visible\" width=\"30\">    <path d=\"M 0 -9 l 6 18 L 0 25\" fill=\"none\" style=\"stroke:rgb(255.0, 0.0, 81.08083606031792);stroke-width:2\" />  </svg></g><g transform=\"translate(-2,0)\">  <svg x=\"40.16555787141678%\" y=\"40\" height=\"18\" overflow=\"visible\" width=\"30\">    <path d=\"M 0 -9 l 6 18 L 0 25\" fill=\"none\" style=\"stroke:rgb(255.0, 0.0, 81.08083606031792);stroke-width:2\" />  </svg></g><g transform=\"translate(0,0)\">  <svg x=\"26.358871726690936%\" y=\"40\" height=\"18\" overflow=\"visible\" width=\"30\">    <path d=\"M 0 -9 l 6 18 L 0 25\" fill=\"none\" style=\"stroke:rgb(255.0, 0.0, 81.08083606031792);stroke-width:2\" />  </svg></g><g transform=\"translate(2,0)\">  <svg x=\"26.358871726690936%\" y=\"40\" height=\"18\" overflow=\"visible\" width=\"30\">    <path d=\"M 0 -9 l 6 18 L 0 25\" fill=\"none\" style=\"stroke:rgb(255.0, 0.0, 81.08083606031792);stroke-width:2\" />  </svg></g><g transform=\"translate(4,0)\">  <svg x=\"26.358871726690936%\" y=\"40\" height=\"18\" overflow=\"visible\" width=\"30\">    <path d=\"M 0 -9 l 6 18 L 0 25\" fill=\"none\" style=\"stroke:rgb(255.0, 0.0, 81.08083606031792);stroke-width:2\" />  </svg></g><g transform=\"translate(6,0)\">  <svg x=\"26.358871726690936%\" y=\"40\" height=\"18\" overflow=\"visible\" width=\"30\">    <path d=\"M 0 -9 l 6 18 L 0 25\" fill=\"none\" style=\"stroke:rgb(255.0, 0.0, 81.08083606031792);stroke-width:2\" />  </svg></g><g transform=\"translate(-8,0)\">  <svg x=\"26.358871726690936%\" y=\"40\" height=\"18\" overflow=\"visible\" width=\"30\">    <path d=\"M 0 -9 l 6 18 L 0 25\" fill=\"none\" style=\"stroke:rgb(255.0, 0.0, 81.08083606031792);stroke-width:2\" />  </svg></g><g transform=\"translate(-6,0)\">  <svg x=\"26.358871726690936%\" y=\"40\" height=\"18\" overflow=\"visible\" width=\"30\">    <path d=\"M 0 -9 l 6 18 L 0 25\" fill=\"none\" style=\"stroke:rgb(255.0, 0.0, 81.08083606031792);stroke-width:2\" />  </svg></g><g transform=\"translate(-4,0)\">  <svg x=\"26.358871726690936%\" y=\"40\" height=\"18\" overflow=\"visible\" width=\"30\">    <path d=\"M 0 -9 l 6 18 L 0 25\" fill=\"none\" style=\"stroke:rgb(255.0, 0.0, 81.08083606031792);stroke-width:2\" />  </svg></g><g transform=\"translate(-2,0)\">  <svg x=\"26.358871726690936%\" y=\"40\" height=\"18\" overflow=\"visible\" width=\"30\">    <path d=\"M 0 -9 l 6 18 L 0 25\" fill=\"none\" style=\"stroke:rgb(255.0, 0.0, 81.08083606031792);stroke-width:2\" />  </svg></g><g transform=\"translate(0,0)\">  <svg x=\"18.116365661886856%\" y=\"40\" height=\"18\" overflow=\"visible\" width=\"30\">    <path d=\"M 0 -9 l 6 18 L 0 25\" fill=\"none\" style=\"stroke:rgb(255.0, 0.0, 81.08083606031792);stroke-width:2\" />  </svg></g><g transform=\"translate(2,0)\">  <svg x=\"18.116365661886856%\" y=\"40\" height=\"18\" overflow=\"visible\" width=\"30\">    <path d=\"M 0 -9 l 6 18 L 0 25\" fill=\"none\" style=\"stroke:rgb(255.0, 0.0, 81.08083606031792);stroke-width:2\" />  </svg></g><g transform=\"translate(4,0)\">  <svg x=\"18.116365661886856%\" y=\"40\" height=\"18\" overflow=\"visible\" width=\"30\">    <path d=\"M 0 -9 l 6 18 L 0 25\" fill=\"none\" style=\"stroke:rgb(255.0, 0.0, 81.08083606031792);stroke-width:2\" />  </svg></g><g transform=\"translate(6,0)\">  <svg x=\"18.116365661886856%\" y=\"40\" height=\"18\" overflow=\"visible\" width=\"30\">    <path d=\"M 0 -9 l 6 18 L 0 25\" fill=\"none\" style=\"stroke:rgb(255.0, 0.0, 81.08083606031792);stroke-width:2\" />  </svg></g><g transform=\"translate(-8,0)\">  <svg x=\"18.116365661886856%\" y=\"40\" height=\"18\" overflow=\"visible\" width=\"30\">    <path d=\"M 0 -9 l 6 18 L 0 25\" fill=\"none\" style=\"stroke:rgb(255.0, 0.0, 81.08083606031792);stroke-width:2\" />  </svg></g><g transform=\"translate(-6,0)\">  <svg x=\"18.116365661886856%\" y=\"40\" height=\"18\" overflow=\"visible\" width=\"30\">    <path d=\"M 0 -9 l 6 18 L 0 25\" fill=\"none\" style=\"stroke:rgb(255.0, 0.0, 81.08083606031792);stroke-width:2\" />  </svg></g><g transform=\"translate(-4,0)\">  <svg x=\"18.116365661886856%\" y=\"40\" height=\"18\" overflow=\"visible\" width=\"30\">    <path d=\"M 0 -9 l 6 18 L 0 25\" fill=\"none\" style=\"stroke:rgb(255.0, 0.0, 81.08083606031792);stroke-width:2\" />  </svg></g><g transform=\"translate(-2,0)\">  <svg x=\"18.116365661886856%\" y=\"40\" height=\"18\" overflow=\"visible\" width=\"30\">    <path d=\"M 0 -9 l 6 18 L 0 25\" fill=\"none\" style=\"stroke:rgb(255.0, 0.0, 81.08083606031792);stroke-width:2\" />  </svg></g><g transform=\"translate(0,0)\">  <svg x=\"10.952619707739435%\" y=\"40\" height=\"18\" overflow=\"visible\" width=\"30\">    <path d=\"M 0 -9 l 6 18 L 0 25\" fill=\"none\" style=\"stroke:rgb(255.0, 0.0, 81.08083606031792);stroke-width:2\" />  </svg></g><g transform=\"translate(2,0)\">  <svg x=\"10.952619707739435%\" y=\"40\" height=\"18\" overflow=\"visible\" width=\"30\">    <path d=\"M 0 -9 l 6 18 L 0 25\" fill=\"none\" style=\"stroke:rgb(255.0, 0.0, 81.08083606031792);stroke-width:2\" />  </svg></g><g transform=\"translate(4,0)\">  <svg x=\"10.952619707739435%\" y=\"40\" height=\"18\" overflow=\"visible\" width=\"30\">    <path d=\"M 0 -9 l 6 18 L 0 25\" fill=\"none\" style=\"stroke:rgb(255.0, 0.0, 81.08083606031792);stroke-width:2\" />  </svg></g><g transform=\"translate(6,0)\">  <svg x=\"10.952619707739435%\" y=\"40\" height=\"18\" overflow=\"visible\" width=\"30\">    <path d=\"M 0 -9 l 6 18 L 0 25\" fill=\"none\" style=\"stroke:rgb(255.0, 0.0, 81.08083606031792);stroke-width:2\" />  </svg></g><g transform=\"translate(-8,0)\">  <svg x=\"10.952619707739435%\" y=\"40\" height=\"18\" overflow=\"visible\" width=\"30\">    <path d=\"M 0 -9 l 6 18 L 0 25\" fill=\"none\" style=\"stroke:rgb(255.0, 0.0, 81.08083606031792);stroke-width:2\" />  </svg></g><g transform=\"translate(-6,0)\">  <svg x=\"10.952619707739435%\" y=\"40\" height=\"18\" overflow=\"visible\" width=\"30\">    <path d=\"M 0 -9 l 6 18 L 0 25\" fill=\"none\" style=\"stroke:rgb(255.0, 0.0, 81.08083606031792);stroke-width:2\" />  </svg></g><g transform=\"translate(-4,0)\">  <svg x=\"10.952619707739435%\" y=\"40\" height=\"18\" overflow=\"visible\" width=\"30\">    <path d=\"M 0 -9 l 6 18 L 0 25\" fill=\"none\" style=\"stroke:rgb(255.0, 0.0, 81.08083606031792);stroke-width:2\" />  </svg></g><g transform=\"translate(-2,0)\">  <svg x=\"10.952619707739435%\" y=\"40\" height=\"18\" overflow=\"visible\" width=\"30\">    <path d=\"M 0 -9 l 6 18 L 0 25\" fill=\"none\" style=\"stroke:rgb(255.0, 0.0, 81.08083606031792);stroke-width:2\" />  </svg></g><g transform=\"translate(0,0)\">  <svg x=\"9.375867076226463%\" y=\"40\" height=\"18\" overflow=\"visible\" width=\"30\">    <path d=\"M 0 -9 l 6 18 L 0 25\" fill=\"none\" style=\"stroke:rgb(255.0, 0.0, 81.08083606031792);stroke-width:2\" />  </svg></g><g transform=\"translate(2,0)\">  <svg x=\"9.375867076226463%\" y=\"40\" height=\"18\" overflow=\"visible\" width=\"30\">    <path d=\"M 0 -9 l 6 18 L 0 25\" fill=\"none\" style=\"stroke:rgb(255.0, 0.0, 81.08083606031792);stroke-width:2\" />  </svg></g><g transform=\"translate(4,0)\">  <svg x=\"9.375867076226463%\" y=\"40\" height=\"18\" overflow=\"visible\" width=\"30\">    <path d=\"M 0 -9 l 6 18 L 0 25\" fill=\"none\" style=\"stroke:rgb(255.0, 0.0, 81.08083606031792);stroke-width:2\" />  </svg></g><g transform=\"translate(6,0)\">  <svg x=\"9.375867076226463%\" y=\"40\" height=\"18\" overflow=\"visible\" width=\"30\">    <path d=\"M 0 -9 l 6 18 L 0 25\" fill=\"none\" style=\"stroke:rgb(255.0, 0.0, 81.08083606031792);stroke-width:2\" />  </svg></g><g transform=\"translate(-8,0)\">  <svg x=\"9.375867076226463%\" y=\"40\" height=\"18\" overflow=\"visible\" width=\"30\">    <path d=\"M 0 -9 l 6 18 L 0 25\" fill=\"none\" style=\"stroke:rgb(255.0, 0.0, 81.08083606031792);stroke-width:2\" />  </svg></g><g transform=\"translate(-6,0)\">  <svg x=\"9.375867076226463%\" y=\"40\" height=\"18\" overflow=\"visible\" width=\"30\">    <path d=\"M 0 -9 l 6 18 L 0 25\" fill=\"none\" style=\"stroke:rgb(255.0, 0.0, 81.08083606031792);stroke-width:2\" />  </svg></g><g transform=\"translate(-4,0)\">  <svg x=\"9.375867076226463%\" y=\"40\" height=\"18\" overflow=\"visible\" width=\"30\">    <path d=\"M 0 -9 l 6 18 L 0 25\" fill=\"none\" style=\"stroke:rgb(255.0, 0.0, 81.08083606031792);stroke-width:2\" />  </svg></g><g transform=\"translate(-2,0)\">  <svg x=\"9.375867076226463%\" y=\"40\" height=\"18\" overflow=\"visible\" width=\"30\">    <path d=\"M 0 -9 l 6 18 L 0 25\" fill=\"none\" style=\"stroke:rgb(255.0, 0.0, 81.08083606031792);stroke-width:2\" />  </svg></g><rect transform=\"translate(-8,0)\" x=\"91.22706374609751%\" y=\"40\" width=\"8\" height=\"18\" style=\"fill:rgb(255.0, 0.0, 81.08083606031792)\"/><g transform=\"translate(-11.5,0)\">  <svg x=\"8.333333333333332%\" y=\"40\" height=\"18\" overflow=\"visible\" width=\"30\">    <path d=\"M 10 -9 l 6 18 L 10 25 L 0 25 L 0 -9\" fill=\"#ffffff\" style=\"stroke:rgb(255,255,255);stroke-width:2\" />  </svg></g><g transform=\"translate(-1.5,0)\">  <svg x=\"91.22706374609751%\" y=\"40\" height=\"18\" overflow=\"visible\" width=\"30\">    <path d=\"M 0 -9 l 6 18 L 0 25\" fill=\"none\" style=\"stroke:rgb(255, 195, 213);stroke-width:2\" />  </svg></g><rect x=\"62.985766739862385%\" y=\"40\" height=\"20\" width=\"28.24129700623513%\"      onmouseover=\"document.getElementById('_tp_jjzhdjexxlkzsnzkfyqn_ind_5').style.textDecoration = 'underline';document.getElementById('_fs_jjzhdjexxlkzsnzkfyqn_ind_5').style.opacity = 1;document.getElementById('_fb_jjzhdjexxlkzsnzkfyqn_ind_5').style.opacity = 1;\"      onmouseout=\"document.getElementById('_tp_jjzhdjexxlkzsnzkfyqn_ind_5').style.textDecoration = 'none';document.getElementById('_fs_jjzhdjexxlkzsnzkfyqn_ind_5').style.opacity = 0;document.getElementById('_fb_jjzhdjexxlkzsnzkfyqn_ind_5').style.opacity = 0;\" style=\"fill:rgb(0,0,0,0)\" /><g transform=\"translate(-1.5,0)\">  <svg x=\"62.985766739862385%\" y=\"40\" height=\"18\" overflow=\"visible\" width=\"30\">    <path d=\"M 0 -9 l 6 18 L 0 25\" fill=\"none\" style=\"stroke:rgb(255, 195, 213);stroke-width:2\" />  </svg></g><rect x=\"40.16555787141678%\" y=\"40\" height=\"20\" width=\"22.820208868445604%\"      onmouseover=\"document.getElementById('_tp_jjzhdjexxlkzsnzkfyqn_ind_7').style.textDecoration = 'underline';document.getElementById('_fs_jjzhdjexxlkzsnzkfyqn_ind_7').style.opacity = 1;document.getElementById('_fb_jjzhdjexxlkzsnzkfyqn_ind_7').style.opacity = 1;\"      onmouseout=\"document.getElementById('_tp_jjzhdjexxlkzsnzkfyqn_ind_7').style.textDecoration = 'none';document.getElementById('_fs_jjzhdjexxlkzsnzkfyqn_ind_7').style.opacity = 0;document.getElementById('_fb_jjzhdjexxlkzsnzkfyqn_ind_7').style.opacity = 0;\" style=\"fill:rgb(0,0,0,0)\" /><g transform=\"translate(-1.5,0)\">  <svg x=\"40.16555787141678%\" y=\"40\" height=\"18\" overflow=\"visible\" width=\"30\">    <path d=\"M 0 -9 l 6 18 L 0 25\" fill=\"none\" style=\"stroke:rgb(255, 195, 213);stroke-width:2\" />  </svg></g><rect x=\"26.358871726690936%\" y=\"40\" height=\"20\" width=\"13.806686144725845%\"      onmouseover=\"document.getElementById('_tp_jjzhdjexxlkzsnzkfyqn_ind_2').style.textDecoration = 'underline';document.getElementById('_fs_jjzhdjexxlkzsnzkfyqn_ind_2').style.opacity = 1;document.getElementById('_fb_jjzhdjexxlkzsnzkfyqn_ind_2').style.opacity = 1;\"      onmouseout=\"document.getElementById('_tp_jjzhdjexxlkzsnzkfyqn_ind_2').style.textDecoration = 'none';document.getElementById('_fs_jjzhdjexxlkzsnzkfyqn_ind_2').style.opacity = 0;document.getElementById('_fb_jjzhdjexxlkzsnzkfyqn_ind_2').style.opacity = 0;\" style=\"fill:rgb(0,0,0,0)\" /><g transform=\"translate(-1.5,0)\">  <svg x=\"26.358871726690936%\" y=\"40\" height=\"18\" overflow=\"visible\" width=\"30\">    <path d=\"M 0 -9 l 6 18 L 0 25\" fill=\"none\" style=\"stroke:rgb(255, 195, 213);stroke-width:2\" />  </svg></g><rect x=\"18.116365661886856%\" y=\"40\" height=\"20\" width=\"8.242506064804079%\"      onmouseover=\"document.getElementById('_tp_jjzhdjexxlkzsnzkfyqn_ind_3').style.textDecoration = 'underline';document.getElementById('_fs_jjzhdjexxlkzsnzkfyqn_ind_3').style.opacity = 1;document.getElementById('_fb_jjzhdjexxlkzsnzkfyqn_ind_3').style.opacity = 1;\"      onmouseout=\"document.getElementById('_tp_jjzhdjexxlkzsnzkfyqn_ind_3').style.textDecoration = 'none';document.getElementById('_fs_jjzhdjexxlkzsnzkfyqn_ind_3').style.opacity = 0;document.getElementById('_fb_jjzhdjexxlkzsnzkfyqn_ind_3').style.opacity = 0;\" style=\"fill:rgb(0,0,0,0)\" /><g transform=\"translate(-1.5,0)\">  <svg x=\"18.116365661886856%\" y=\"40\" height=\"18\" overflow=\"visible\" width=\"30\">    <path d=\"M 0 -9 l 6 18 L 0 25\" fill=\"none\" style=\"stroke:rgb(255, 195, 213);stroke-width:2\" />  </svg></g><rect x=\"10.952619707739435%\" y=\"40\" height=\"20\" width=\"7.163745954147421%\"      onmouseover=\"document.getElementById('_tp_jjzhdjexxlkzsnzkfyqn_ind_4').style.textDecoration = 'underline';document.getElementById('_fs_jjzhdjexxlkzsnzkfyqn_ind_4').style.opacity = 1;document.getElementById('_fb_jjzhdjexxlkzsnzkfyqn_ind_4').style.opacity = 1;\"      onmouseout=\"document.getElementById('_tp_jjzhdjexxlkzsnzkfyqn_ind_4').style.textDecoration = 'none';document.getElementById('_fs_jjzhdjexxlkzsnzkfyqn_ind_4').style.opacity = 0;document.getElementById('_fb_jjzhdjexxlkzsnzkfyqn_ind_4').style.opacity = 0;\" style=\"fill:rgb(0,0,0,0)\" /><g transform=\"translate(-1.5,0)\">  <svg x=\"10.952619707739435%\" y=\"40\" height=\"18\" overflow=\"visible\" width=\"30\">    <path d=\"M 0 -9 l 6 18 L 0 25\" fill=\"none\" style=\"stroke:rgb(255, 195, 213);stroke-width:2\" />  </svg></g><rect x=\"9.375867076226463%\" y=\"40\" height=\"20\" width=\"1.5767526315129725%\"      onmouseover=\"document.getElementById('_tp_jjzhdjexxlkzsnzkfyqn_ind_6').style.textDecoration = 'underline';document.getElementById('_fs_jjzhdjexxlkzsnzkfyqn_ind_6').style.opacity = 1;document.getElementById('_fb_jjzhdjexxlkzsnzkfyqn_ind_6').style.opacity = 1;\"      onmouseout=\"document.getElementById('_tp_jjzhdjexxlkzsnzkfyqn_ind_6').style.textDecoration = 'none';document.getElementById('_fs_jjzhdjexxlkzsnzkfyqn_ind_6').style.opacity = 0;document.getElementById('_fb_jjzhdjexxlkzsnzkfyqn_ind_6').style.opacity = 0;\" style=\"fill:rgb(0,0,0,0)\" /><rect x=\"8.333333333333323%\" y=\"40\" height=\"20\" width=\"1.0425337428931396%\"      onmouseover=\"document.getElementById('_tp_jjzhdjexxlkzsnzkfyqn_ind_1').style.textDecoration = 'underline';document.getElementById('_fs_jjzhdjexxlkzsnzkfyqn_ind_1').style.opacity = 1;document.getElementById('_fb_jjzhdjexxlkzsnzkfyqn_ind_1').style.opacity = 1;\"      onmouseout=\"document.getElementById('_tp_jjzhdjexxlkzsnzkfyqn_ind_1').style.textDecoration = 'none';document.getElementById('_fs_jjzhdjexxlkzsnzkfyqn_ind_1').style.opacity = 0;document.getElementById('_fb_jjzhdjexxlkzsnzkfyqn_ind_1').style.opacity = 0;\" style=\"fill:rgb(0,0,0,0)\" /><rect x=\"91.22706374609751%\" width=\"0.43960292056915534%\" y=\"40\" height=\"18\" style=\"fill:rgb(0.0, 138.56128015770724, 250.76166088685727); stroke-width:0; stroke:rgb(0,0,0)\" /><line x1=\"91.22706374609751%\" x2=\"91.6666662843683%\" y1=\"60\" y2=\"60\" id=\"_fb_jjzhdjexxlkzsnzkfyqn_ind_0\" style=\"stroke:rgb(0.0, 138.56128015770724, 250.76166088685727);stroke-width:2; opacity: 0\"/><text x=\"91.4468650152329%\" y=\"71\" font-size=\"12px\" fill=\"rgb(0.0, 138.56128015770724, 250.76166088685727)\" id=\"_fs_jjzhdjexxlkzsnzkfyqn_ind_0\" style=\"opacity: 0\" dominant-baseline=\"middle\" text-anchor=\"middle\">-0.046</text><svg x=\"91.22706374609751%\" y=\"40\" height=\"20\" width=\"0.43960253827079043%\">  <svg x=\"0\" y=\"0\" width=\"100%\" height=\"100%\">    <text x=\"50%\" y=\"9\" font-size=\"12px\" fill=\"rgb(255,255,255)\" dominant-baseline=\"middle\" text-anchor=\"middle\"></text>  </svg></svg><line x1=\"91.6666662843683%\" x2=\"91.66666666666667%\" y1=\"60\" y2=\"60\" id=\"_fb_jjzhdjexxlkzsnzkfyqn_ind_8\" style=\"stroke:rgb(0.0, 138.56128015770724, 250.76166088685727);stroke-width:2; opacity: 0\"/><text x=\"91.66666647551749%\" y=\"71\" font-size=\"12px\" fill=\"rgb(0.0, 138.56128015770724, 250.76166088685727)\" id=\"_fs_jjzhdjexxlkzsnzkfyqn_ind_8\" style=\"opacity: 0\" dominant-baseline=\"middle\" text-anchor=\"middle\">-0.0</text><svg x=\"91.6666662843683%\" y=\"40\" height=\"20\" width=\"3.822983671852853e-07%\">  <svg x=\"0\" y=\"0\" width=\"100%\" height=\"100%\">    <text x=\"50%\" y=\"9\" font-size=\"12px\" fill=\"rgb(255,255,255)\" dominant-baseline=\"middle\" text-anchor=\"middle\"></text>  </svg></svg><g transform=\"translate(-8,0)\">  <svg x=\"91.6666662843683%\" y=\"40\" height=\"18\" overflow=\"visible\" width=\"30\">    <path d=\"M 8 -9 l -6 18 L 8 25\" fill=\"none\" style=\"stroke:rgb(0.0, 138.56128015770724, 250.76166088685727);stroke-width:2\" />  </svg></g><g transform=\"translate(-10,0)\">  <svg x=\"91.6666662843683%\" y=\"40\" height=\"18\" overflow=\"visible\" width=\"30\">    <path d=\"M 8 -9 l -6 18 L 8 25\" fill=\"none\" style=\"stroke:rgb(0.0, 138.56128015770724, 250.76166088685727);stroke-width:2\" />  </svg></g><g transform=\"translate(-12,0)\">  <svg x=\"91.6666662843683%\" y=\"40\" height=\"18\" overflow=\"visible\" width=\"30\">    <path d=\"M 8 -9 l -6 18 L 8 25\" fill=\"none\" style=\"stroke:rgb(0.0, 138.56128015770724, 250.76166088685727);stroke-width:2\" />  </svg></g><g transform=\"translate(-14,0)\">  <svg x=\"91.6666662843683%\" y=\"40\" height=\"18\" overflow=\"visible\" width=\"30\">    <path d=\"M 8 -9 l -6 18 L 8 25\" fill=\"none\" style=\"stroke:rgb(0.0, 138.56128015770724, 250.76166088685727);stroke-width:2\" />  </svg></g><g transform=\"translate(2,0)\">  <svg x=\"91.6666662843683%\" y=\"40\" height=\"18\" overflow=\"visible\" width=\"30\">    <path d=\"M 8 -9 l -6 18 L 8 25\" fill=\"none\" style=\"stroke:rgb(0.0, 138.56128015770724, 250.76166088685727);stroke-width:2\" />  </svg></g><g transform=\"translate(0,0)\">  <svg x=\"91.6666662843683%\" y=\"40\" height=\"18\" overflow=\"visible\" width=\"30\">    <path d=\"M 8 -9 l -6 18 L 8 25\" fill=\"none\" style=\"stroke:rgb(0.0, 138.56128015770724, 250.76166088685727);stroke-width:2\" />  </svg></g><g transform=\"translate(-2,0)\">  <svg x=\"91.6666662843683%\" y=\"40\" height=\"18\" overflow=\"visible\" width=\"30\">    <path d=\"M 8 -9 l -6 18 L 8 25\" fill=\"none\" style=\"stroke:rgb(0.0, 138.56128015770724, 250.76166088685727);stroke-width:2\" />  </svg></g><g transform=\"translate(-4,0)\">  <svg x=\"91.6666662843683%\" y=\"40\" height=\"18\" overflow=\"visible\" width=\"30\">    <path d=\"M 8 -9 l -6 18 L 8 25\" fill=\"none\" style=\"stroke:rgb(0.0, 138.56128015770724, 250.76166088685727);stroke-width:2\" />  </svg></g><rect transform=\"translate(0,0)\" x=\"91.22706374609751%\" y=\"40\" width=\"8\" height=\"18\" style=\"fill:rgb(0.0, 138.56128015770724, 250.76166088685727)\"/><g transform=\"translate(-6.0,0)\">  <svg x=\"91.66666666666667%\" y=\"40\" height=\"18\" overflow=\"visible\" width=\"30\">    <path d=\"M 8 -9 l -6 18 L 8 25 L 20 25 L 20 -9\" fill=\"#ffffff\" style=\"stroke:rgb(255,255,255);stroke-width:2\" />  </svg></g><g transform=\"translate(-6.0,0)\">  <svg x=\"91.6666662843683%\" y=\"40\" height=\"18\" overflow=\"visible\" width=\"30\">    <path d=\"M 8 -9 l -6 18 L 8 25\" fill=\"none\" style=\"stroke:rgb(208, 230, 250);stroke-width:2\" />  </svg></g><rect x=\"91.22706374609751%\" y=\"40\" height=\"20\" width=\"0.43960253827079043%\"      onmouseover=\"document.getElementById('_tp_jjzhdjexxlkzsnzkfyqn_ind_0').style.textDecoration = 'underline';document.getElementById('_fs_jjzhdjexxlkzsnzkfyqn_ind_0').style.opacity = 1;document.getElementById('_fb_jjzhdjexxlkzsnzkfyqn_ind_0').style.opacity = 1;\"      onmouseout=\"document.getElementById('_tp_jjzhdjexxlkzsnzkfyqn_ind_0').style.textDecoration = 'none';document.getElementById('_fs_jjzhdjexxlkzsnzkfyqn_ind_0').style.opacity = 0;document.getElementById('_fb_jjzhdjexxlkzsnzkfyqn_ind_0').style.opacity = 0;\" style=\"fill:rgb(0,0,0,0)\" /><rect x=\"91.6666662843683%\" y=\"40\" height=\"20\" width=\"3.822983671852853e-07%\"      onmouseover=\"document.getElementById('_tp_jjzhdjexxlkzsnzkfyqn_ind_8').style.textDecoration = 'underline';document.getElementById('_fs_jjzhdjexxlkzsnzkfyqn_ind_8').style.opacity = 1;document.getElementById('_fb_jjzhdjexxlkzsnzkfyqn_ind_8').style.opacity = 1;\"      onmouseout=\"document.getElementById('_tp_jjzhdjexxlkzsnzkfyqn_ind_8').style.textDecoration = 'none';document.getElementById('_fs_jjzhdjexxlkzsnzkfyqn_ind_8').style.opacity = 0;document.getElementById('_fb_jjzhdjexxlkzsnzkfyqn_ind_8').style.opacity = 0;\" style=\"fill:rgb(0,0,0,0)\" /></svg><div style='display: inline; text-align: center;'><div style='display: none; color: #999; padding-top: 0px; font-size: 12px;'>-0.046</div><div id='_tp_jjzhdjexxlkzsnzkfyqn_ind_0'style='display: inline; background: rgba(30.0, 136.0, 229.0, 0.006773618538324436); border-radius: 3px; padding: 0px'onclick=\"if (this.previousSibling.style.display == 'none') {this.previousSibling.style.display = 'block';this.parentNode.style.display = 'inline-block';} else {this.previousSibling.style.display = 'none';this.parentNode.style.display = 'inline';}\"onmouseover=\"document.getElementById('_fb_jjzhdjexxlkzsnzkfyqn_ind_0').style.opacity = 1; document.getElementById('_fs_jjzhdjexxlkzsnzkfyqn_ind_0').style.opacity = 1;\"onmouseout=\"document.getElementById('_fb_jjzhdjexxlkzsnzkfyqn_ind_0').style.opacity = 0; document.getElementById('_fs_jjzhdjexxlkzsnzkfyqn_ind_0').style.opacity = 0;\"></div></div><div style='display: inline; text-align: center;'><div style='display: none; color: #999; padding-top: 0px; font-size: 12px;'>0.109</div><div id='_tp_jjzhdjexxlkzsnzkfyqn_ind_1'style='display: inline; background: rgba(255.0, 13.0, 87.0, 0.030421865715983164); border-radius: 3px; padding: 0px'onclick=\"if (this.previousSibling.style.display == 'none') {this.previousSibling.style.display = 'block';this.parentNode.style.display = 'inline-block';} else {this.previousSibling.style.display = 'none';this.parentNode.style.display = 'inline';}\"onmouseover=\"document.getElementById('_fb_jjzhdjexxlkzsnzkfyqn_ind_1').style.opacity = 1; document.getElementById('_fs_jjzhdjexxlkzsnzkfyqn_ind_1').style.opacity = 1;\"onmouseout=\"document.getElementById('_fb_jjzhdjexxlkzsnzkfyqn_ind_1').style.opacity = 0; document.getElementById('_fs_jjzhdjexxlkzsnzkfyqn_ind_1').style.opacity = 0;\">WATCH🚨 </div></div><div style='display: inline; text-align: center;'><div style='display: none; color: #999; padding-top: 0px; font-size: 12px;'>1.45</div><div id='_tp_jjzhdjexxlkzsnzkfyqn_ind_2'style='display: inline; background: rgba(255.0, 13.0, 87.0, 0.48762131115072294); border-radius: 3px; padding: 0px'onclick=\"if (this.previousSibling.style.display == 'none') {this.previousSibling.style.display = 'block';this.parentNode.style.display = 'inline-block';} else {this.previousSibling.style.display = 'none';this.parentNode.style.display = 'inline';}\"onmouseover=\"document.getElementById('_fb_jjzhdjexxlkzsnzkfyqn_ind_2').style.opacity = 1; document.getElementById('_fs_jjzhdjexxlkzsnzkfyqn_ind_2').style.opacity = 1;\"onmouseout=\"document.getElementById('_fb_jjzhdjexxlkzsnzkfyqn_ind_2').style.opacity = 0; document.getElementById('_fs_jjzhdjexxlkzsnzkfyqn_ind_2').style.opacity = 0;\">Terrorist </div></div><div style='display: inline; text-align: center;'><div style='display: none; color: #999; padding-top: 0px; font-size: 12px;'>0.866</div><div id='_tp_jjzhdjexxlkzsnzkfyqn_ind_3'style='display: inline; background: rgba(255.0, 13.0, 87.0, 0.29055258467023165); border-radius: 3px; padding: 0px'onclick=\"if (this.previousSibling.style.display == 'none') {this.previousSibling.style.display = 'block';this.parentNode.style.display = 'inline-block';} else {this.previousSibling.style.display = 'none';this.parentNode.style.display = 'inline';}\"onmouseover=\"document.getElementById('_fb_jjzhdjexxlkzsnzkfyqn_ind_3').style.opacity = 1; document.getElementById('_fs_jjzhdjexxlkzsnzkfyqn_ind_3').style.opacity = 1;\"onmouseout=\"document.getElementById('_fb_jjzhdjexxlkzsnzkfyqn_ind_3').style.opacity = 0; document.getElementById('_fs_jjzhdjexxlkzsnzkfyqn_ind_3').style.opacity = 0;\">experts</div></div><div style='display: inline; text-align: center;'><div style='display: none; color: #999; padding-top: 0px; font-size: 12px;'>0.752</div><div id='_tp_jjzhdjexxlkzsnzkfyqn_ind_4'style='display: inline; background: rgba(255.0, 13.0, 87.0, 0.2511388393741335); border-radius: 3px; padding: 0px'onclick=\"if (this.previousSibling.style.display == 'none') {this.previousSibling.style.display = 'block';this.parentNode.style.display = 'inline-block';} else {this.previousSibling.style.display = 'none';this.parentNode.style.display = 'inline';}\"onmouseover=\"document.getElementById('_fb_jjzhdjexxlkzsnzkfyqn_ind_4').style.opacity = 1; document.getElementById('_fs_jjzhdjexxlkzsnzkfyqn_ind_4').style.opacity = 1;\"onmouseout=\"document.getElementById('_fb_jjzhdjexxlkzsnzkfyqn_ind_4').style.opacity = 0; document.getElementById('_fs_jjzhdjexxlkzsnzkfyqn_ind_4').style.opacity = 0;\">: </div></div><div style='display: inline; text-align: center;'><div style='display: none; color: #999; padding-top: 0px; font-size: 12px;'>2.966</div><div id='_tp_jjzhdjexxlkzsnzkfyqn_ind_5'style='display: inline; background: rgba(255.0, 13.0, 87.0, 1.0); border-radius: 3px; padding: 0px'onclick=\"if (this.previousSibling.style.display == 'none') {this.previousSibling.style.display = 'block';this.parentNode.style.display = 'inline-block';} else {this.previousSibling.style.display = 'none';this.parentNode.style.display = 'inline';}\"onmouseover=\"document.getElementById('_fb_jjzhdjexxlkzsnzkfyqn_ind_5').style.opacity = 1; document.getElementById('_fs_jjzhdjexxlkzsnzkfyqn_ind_5').style.opacity = 1;\"onmouseout=\"document.getElementById('_fb_jjzhdjexxlkzsnzkfyqn_ind_5').style.opacity = 0; document.getElementById('_fs_jjzhdjexxlkzsnzkfyqn_ind_5').style.opacity = 0;\">Obama </div></div><div style='display: inline; text-align: center;'><div style='display: none; color: #999; padding-top: 0px; font-size: 12px;'>0.166 / 2</div><div id='_tp_jjzhdjexxlkzsnzkfyqn_ind_6'style='display: inline; background: rgba(255.0, 13.0, 87.0, 0.05407011289364243); border-radius: 3px; padding: 0px'onclick=\"if (this.previousSibling.style.display == 'none') {this.previousSibling.style.display = 'block';this.parentNode.style.display = 'inline-block';} else {this.previousSibling.style.display = 'none';this.parentNode.style.display = 'inline';}\"onmouseover=\"document.getElementById('_fb_jjzhdjexxlkzsnzkfyqn_ind_6').style.opacity = 1; document.getElementById('_fs_jjzhdjexxlkzsnzkfyqn_ind_6').style.opacity = 1;\"onmouseout=\"document.getElementById('_fb_jjzhdjexxlkzsnzkfyqn_ind_6').style.opacity = 0; document.getElementById('_fs_jjzhdjexxlkzsnzkfyqn_ind_6').style.opacity = 0;\">is the </div></div><div style='display: inline; text-align: center;'><div style='display: none; color: #999; padding-top: 0px; font-size: 12px;'>2.397 / 3</div><div id='_tp_jjzhdjexxlkzsnzkfyqn_ind_7'style='display: inline; background: rgba(255.0, 13.0, 87.0, 0.8108140225787285); border-radius: 3px; padding: 0px'onclick=\"if (this.previousSibling.style.display == 'none') {this.previousSibling.style.display = 'block';this.parentNode.style.display = 'inline-block';} else {this.previousSibling.style.display = 'none';this.parentNode.style.display = 'inline';}\"onmouseover=\"document.getElementById('_fb_jjzhdjexxlkzsnzkfyqn_ind_7').style.opacity = 1; document.getElementById('_fs_jjzhdjexxlkzsnzkfyqn_ind_7').style.opacity = 1;\"onmouseout=\"document.getElementById('_fb_jjzhdjexxlkzsnzkfyqn_ind_7').style.opacity = 0; document.getElementById('_fs_jjzhdjexxlkzsnzkfyqn_ind_7').style.opacity = 0;\">founder of ISIS</div></div><div style='display: inline; text-align: center;'><div style='display: none; color: #999; padding-top: 0px; font-size: 12px;'>-0.0</div><div id='_tp_jjzhdjexxlkzsnzkfyqn_ind_8'style='display: inline; background: rgba(54.70588235294111, 122.49411764705886, 213.40784313725496, 0.0); border-radius: 3px; padding: 0px'onclick=\"if (this.previousSibling.style.display == 'none') {this.previousSibling.style.display = 'block';this.parentNode.style.display = 'inline-block';} else {this.previousSibling.style.display = 'none';this.parentNode.style.display = 'inline';}\"onmouseover=\"document.getElementById('_fb_jjzhdjexxlkzsnzkfyqn_ind_8').style.opacity = 1; document.getElementById('_fs_jjzhdjexxlkzsnzkfyqn_ind_8').style.opacity = 1;\"onmouseout=\"document.getElementById('_fb_jjzhdjexxlkzsnzkfyqn_ind_8').style.opacity = 0; document.getElementById('_fs_jjzhdjexxlkzsnzkfyqn_ind_8').style.opacity = 0;\"></div></div>"
            ],
            "text/plain": [
              "<IPython.core.display.HTML object>"
            ]
          },
          "metadata": {
            "tags": []
          }
        }
      ]
    },
    {
      "cell_type": "code",
      "metadata": {
        "id": "2VFJsEQjMLM8"
      },
      "source": [
        ""
      ],
      "execution_count": null,
      "outputs": []
    }
  ]
}